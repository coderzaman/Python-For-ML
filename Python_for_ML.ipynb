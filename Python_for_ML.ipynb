{
  "nbformat": 4,
  "nbformat_minor": 0,
  "metadata": {
    "colab": {
      "provenance": [],
      "authorship_tag": "ABX9TyMQpbrDbdbRLCbcXOMuEhiz",
      "include_colab_link": true
    },
    "kernelspec": {
      "name": "python3",
      "display_name": "Python 3"
    },
    "language_info": {
      "name": "python"
    }
  },
  "cells": [
    {
      "cell_type": "markdown",
      "metadata": {
        "id": "view-in-github",
        "colab_type": "text"
      },
      "source": [
        "<a href=\"https://colab.research.google.com/github/coderzaman/Python-For-ML/blob/main/Python_for_ML.ipynb\" target=\"_parent\"><img src=\"https://colab.research.google.com/assets/colab-badge.svg\" alt=\"Open In Colab\"/></a>"
      ]
    },
    {
      "cell_type": "markdown",
      "source": [
        "program 01: Write a program to display the messages “Hello”, “World” and “Good Bye”. Each of the three messages should get displayed on a different line."
      ],
      "metadata": {
        "id": "vuA-D2nDI4yj"
      }
    },
    {
      "cell_type": "code",
      "execution_count": null,
      "metadata": {
        "id": "hSQ9z1i1HxvJ",
        "colab": {
          "base_uri": "https://localhost:8080/"
        },
        "outputId": "ca34153c-337f-4e1a-8e43-dc52f7e14f01"
      },
      "outputs": [
        {
          "output_type": "stream",
          "name": "stdout",
          "text": [
            "Hello\n",
            "World\n",
            "Good Bye\n"
          ]
        }
      ],
      "source": [
        "print(\"Hello\")\n",
        "print(\"World\")\n",
        "print(\"Good Bye\")"
      ]
    },
    {
      "cell_type": "markdown",
      "source": [
        "Program 02: Write a basic program to make use of the end key and display the messages “Hello” “World” and “Good Bye” in one line\n",
        "\n",
        "\n",
        "**using a special argument named end=''.**"
      ],
      "metadata": {
        "id": "lzdxb-xAJOfb"
      }
    },
    {
      "cell_type": "code",
      "source": [
        "print(\"Hello \", end='')\n",
        "print(\"World \", end='')\n",
        "print(\"Good Bye\", end='')"
      ],
      "metadata": {
        "colab": {
          "base_uri": "https://localhost:8080/"
        },
        "id": "rDkDUJpTJi8w",
        "outputId": "70d98d24-d0f2-4700-cc15-2613ce75af9c"
      },
      "execution_count": null,
      "outputs": [
        {
          "output_type": "stream",
          "name": "stdout",
          "text": [
            "Hello World Good Bye"
          ]
        }
      ]
    },
    {
      "cell_type": "markdown",
      "source": [
        "# Multiple assignments"
      ],
      "metadata": {
        "id": "VIqFXBqDJ6Pt"
      }
    },
    {
      "cell_type": "code",
      "source": [
        "p, q = 20, 30\n",
        "print(p, q)"
      ],
      "metadata": {
        "colab": {
          "base_uri": "https://localhost:8080/"
        },
        "id": "fVkNv-EzKA8y",
        "outputId": "03d53b80-3014-44c6-84c3-44b2318c81d3"
      },
      "execution_count": null,
      "outputs": [
        {
          "output_type": "stream",
          "name": "stdout",
          "text": [
            "20 30\n"
          ]
        }
      ]
    },
    {
      "cell_type": "markdown",
      "source": [
        "**swap number**"
      ],
      "metadata": {
        "id": "42UkL68OKMWU"
      }
    },
    {
      "cell_type": "code",
      "source": [
        "a = 10\n",
        "b = 30\n",
        "\n",
        "a,b = b,a\n",
        "\n",
        "print(a,b)"
      ],
      "metadata": {
        "colab": {
          "base_uri": "https://localhost:8080/"
        },
        "id": "PGCIYH93KabP",
        "outputId": "2e0700a6-6b4d-46b3-ba1f-eec1d47cce20"
      },
      "execution_count": null,
      "outputs": [
        {
          "output_type": "stream",
          "name": "stdout",
          "text": [
            "30 10\n"
          ]
        }
      ]
    },
    {
      "cell_type": "markdown",
      "source": [
        "Program 03: Write a simple program to calculate the area of a rectangle in Python\n",
        "\n",
        "formula: area = lenght * breadth"
      ],
      "metadata": {
        "id": "gMp8URBcKorY"
      }
    },
    {
      "cell_type": "code",
      "source": [
        "length = int(input(\"Please Enter Length: \"))\n",
        "breadth = int(input(\"Please Enter Breadth: \"))\n",
        "\n",
        "area = length * breadth\n",
        "\n",
        "print(\"Area of Rectangle is\", area)"
      ],
      "metadata": {
        "colab": {
          "base_uri": "https://localhost:8080/"
        },
        "id": "Ym_7dfjMLCCc",
        "outputId": "191d4547-92b6-40eb-b742-7e1a7763b6f5"
      },
      "execution_count": null,
      "outputs": [
        {
          "output_type": "stream",
          "name": "stdout",
          "text": [
            "Please Enter Length: 5\n",
            "Please Enter Breadth: 4\n",
            "Area of Rectangle is 20\n"
          ]
        }
      ]
    },
    {
      "cell_type": "markdown",
      "source": [
        "**eval() Function**\n",
        "\n",
        "* The eval() function in Python takes a string as input and evaluates it as a Python expression.\n",
        "\n",
        "* Normally, when we use input(), Python always takes user input as a string, even if the user enters a number.\n",
        "\n",
        "* To convert that string into a number, we usually wrap it with int(), float(), etc.\n",
        "\n",
        "\n",
        "**But if we use eval(), Python automatically interprets the input in the correct type.**\n",
        "\n",
        "* If the user types a number → it becomes a number.\n",
        "\n",
        "* If the user types a list → it becomes a list.\n",
        "\n",
        "* If the user types an expression → it evaluates the expression.\n",
        "\n",
        "\n",
        "**⚠️ Warning:**\n",
        "eval() is unsafe if you directly use user input (because it can execute harmful code). It should be avoided in real applications unless you fully trust the input."
      ],
      "metadata": {
        "id": "QAGw73kxMo-b"
      }
    },
    {
      "cell_type": "code",
      "source": [
        "x = eval(input(\"Enter your input: \"))\n",
        "print(type(x))\n",
        "\n",
        "x = input(\"Enter your input: \")\n",
        "print(type(x))"
      ],
      "metadata": {
        "colab": {
          "base_uri": "https://localhost:8080/"
        },
        "id": "9MYRn8FOwbDu",
        "outputId": "2253f104-964c-46e3-8c3e-ac8c4fb540c8"
      },
      "execution_count": null,
      "outputs": [
        {
          "output_type": "stream",
          "name": "stdout",
          "text": [
            "Enter your input: 12\n",
            "<class 'int'>\n",
            "Enter your input: 12\n",
            "<class 'str'>\n"
          ]
        }
      ]
    },
    {
      "cell_type": "markdown",
      "source": [
        "Formatting number and strings"
      ],
      "metadata": {
        "id": "KpUhXGLbzDAr"
      }
    },
    {
      "cell_type": "code",
      "source": [
        "x = 20.345123\n",
        "print(format(x, '.3f'))\n",
        "print(type(x))"
      ],
      "metadata": {
        "colab": {
          "base_uri": "https://localhost:8080/"
        },
        "id": "Ys46juvrzFTO",
        "outputId": "7fe4cb76-01be-45b9-8396-aacb44aea2c8"
      },
      "execution_count": null,
      "outputs": [
        {
          "output_type": "stream",
          "name": "stdout",
          "text": [
            "20.345\n",
            "<class 'float'>\n"
          ]
        }
      ]
    },
    {
      "cell_type": "code",
      "source": [
        "# It retruns string 7.3f and print begin a space(Like Think with common sense space in string formatted output should be string)\n",
        "x = 20.345123\n",
        "x = format(x, \"7.3f\")\n",
        "print(x)\n",
        "print(type(x))"
      ],
      "metadata": {
        "colab": {
          "base_uri": "https://localhost:8080/"
        },
        "id": "XQ5n641B0GH1",
        "outputId": "624b6666-cb72-4d9f-e3d8-a0d901d62e78"
      },
      "execution_count": null,
      "outputs": [
        {
          "output_type": "stream",
          "name": "stdout",
          "text": [
            " 20.345\n",
            "<class 'str'>\n"
          ]
        }
      ]
    },
    {
      "cell_type": "code",
      "source": [
        "x = 20.345123\n",
        "x = format(x, \"7.3f\")\n",
        "print(x)\n",
        "print(type(x))"
      ],
      "metadata": {
        "id": "Rxepj5rn0_fi",
        "colab": {
          "base_uri": "https://localhost:8080/"
        },
        "outputId": "91e5af2c-02e4-4de3-80aa-010986bc7378"
      },
      "execution_count": null,
      "outputs": [
        {
          "output_type": "stream",
          "name": "stdout",
          "text": [
            " 20.345\n",
            "<class 'str'>\n"
          ]
        }
      ]
    },
    {
      "cell_type": "code",
      "source": [
        "x = 20.345123\n",
        "x = format(x, \"<7.3f\")\n",
        "print(x)\n",
        "print(type(x))"
      ],
      "metadata": {
        "colab": {
          "base_uri": "https://localhost:8080/"
        },
        "id": "mr4Cb5c91RWg",
        "outputId": "9d7025bb-8cb7-4944-f4fb-fbdecb79b67f"
      },
      "execution_count": null,
      "outputs": [
        {
          "output_type": "stream",
          "name": "stdout",
          "text": [
            "20.345 \n",
            "<class 'str'>\n"
          ]
        }
      ]
    },
    {
      "cell_type": "code",
      "source": [
        "x = eval(x)\n",
        "print(x)\n",
        "print(type(x))"
      ],
      "metadata": {
        "colab": {
          "base_uri": "https://localhost:8080/"
        },
        "id": "7ZTtaA091XYS",
        "outputId": "ff2d8c0a-59ca-45e4-9b54-515816492644"
      },
      "execution_count": null,
      "outputs": [
        {
          "output_type": "stream",
          "name": "stdout",
          "text": [
            "20.345\n",
            "<class 'float'>\n"
          ]
        }
      ]
    },
    {
      "cell_type": "markdown",
      "source": [
        "**'.2%' meaning:**\n",
        "\n",
        ". → decimal point specification.\n",
        "\n",
        "2 → number of digits after the decimal.\n",
        "\n",
        "% → convert the number to percentage (multiplies by 100 and adds % sign).\n",
        "\n",
        "So:\n",
        "\n",
        "First, 314.344234 × 100 = 31434.4234\n",
        "\n",
        "Then, keep 2 digits after decimal → 31434.42\n",
        "\n",
        "Finally, add the % sign → \"31434.42%\""
      ],
      "metadata": {
        "id": "5uswJLBfcb2f"
      }
    },
    {
      "cell_type": "code",
      "source": [
        "print(format(314.344234, '.2%'))"
      ],
      "metadata": {
        "colab": {
          "base_uri": "https://localhost:8080/"
        },
        "id": "RdPObHyRa8qM",
        "outputId": "cd415144-fc63-4fe1-c7df-1ff726256b05"
      },
      "execution_count": null,
      "outputs": [
        {
          "output_type": "stream",
          "name": "stdout",
          "text": [
            "31434.42%\n"
          ]
        }
      ]
    },
    {
      "cell_type": "code",
      "source": [
        "x = 0.5\n",
        "x = format(x, '.2%')\n",
        "x"
      ],
      "metadata": {
        "colab": {
          "base_uri": "https://localhost:8080/",
          "height": 36
        },
        "id": "YVUMZi1AcjyZ",
        "outputId": "a5473ba5-7ddf-42d3-fffe-2e6b76714388"
      },
      "execution_count": null,
      "outputs": [
        {
          "output_type": "execute_result",
          "data": {
            "text/plain": [
              "'50.00%'"
            ],
            "application/vnd.google.colaboratory.intrinsic+json": {
              "type": "string"
            }
          },
          "metadata": {},
          "execution_count": 13
        }
      ]
    },
    {
      "cell_type": "markdown",
      "source": [
        "### 🔹 Common Math Functions in Python (`math` module)\n",
        "\n",
        "1. **`ceil(x)`**\n",
        "\n",
        "   * Rounds **x** up to the nearest integer.\n",
        "   * Example: `ceil(4.2) = 5`\n",
        "\n",
        "2. **`floor(x)`**\n",
        "\n",
        "   * Rounds **x** down to the nearest integer (largest integer ≤ x).\n",
        "   * Example: `floor(4.9) = 4`\n",
        "\n",
        "3. **`exp(x)`**\n",
        "\n",
        "   * Returns **eˣ** (where `e = 2.718...`).\n",
        "   * Example: `exp(1) = 2.718...`\n",
        "\n",
        "4. **`log(x)`**\n",
        "\n",
        "   * Returns the **natural logarithm (base e)** of `x`.\n",
        "   * Example: `log(2.718...) = 1`\n",
        "\n",
        "5. **`log(x, base)`**\n",
        "\n",
        "   * Returns the **logarithm of x with the given base**.\n",
        "   * Example: `log(100, 10) = 2`\n",
        "\n",
        "6. **`sqrt(x)`**\n",
        "\n",
        "   * Returns the **square root of x**.\n",
        "   * Example: `sqrt(25) = 5`\n",
        "\n",
        "7. **`sin(x)`**\n",
        "\n",
        "   * Returns the **sine of x**, where `x` is in **radians**.\n",
        "   * Example: `sin(3.14159/2) = 1`\n",
        "\n",
        "8. **`asin(x)`**\n",
        "\n",
        "   * Returns the **inverse sine (arcsine)** of `x`, result is in **radians**.\n",
        "   * Example: `asin(1) = 1.5708 rad (≈ 90°)`\n",
        "\n",
        "9. **`cos(x)`**\n",
        "\n",
        "   * Returns the **cosine of x**, where `x` is in **radians**.\n",
        "   * Example: `cos(0) = 1`\n",
        "\n",
        "10. **`acos(x)`**\n",
        "\n",
        "    * Returns the **inverse cosine (arccos)** of `x`, result is in **radians**.\n",
        "    * Example: `acos(1) = 0`\n",
        "\n",
        "11. **`tan(x)`**\n",
        "\n",
        "    * Returns the **tangent of x**, where `x` is in **radians**.\n",
        "    * Example: `tan(0) = 0`\n",
        "\n",
        "12. **`degrees(x)`**\n",
        "\n",
        "    * Converts angle **x** from **radians → degrees**.\n",
        "    * Example: `degrees(3.14159) = 180°`\n",
        "\n",
        "13. **`radians(x)`**\n",
        "\n",
        "    * Converts angle **x** from **degrees → radians**.\n",
        "    * Example: `radians(180) = 3.14159 rad`\n"
      ],
      "metadata": {
        "id": "qn4quYxndzuK"
      }
    },
    {
      "cell_type": "code",
      "source": [
        "import math"
      ],
      "metadata": {
        "id": "-OXFElYYeIys"
      },
      "execution_count": null,
      "outputs": []
    },
    {
      "cell_type": "code",
      "source": [
        "x = math.floor(10.3443)\n",
        "x"
      ],
      "metadata": {
        "colab": {
          "base_uri": "https://localhost:8080/"
        },
        "id": "_jToAy_Qebju",
        "outputId": "ff0bdeb0-2251-4aec-c9a6-c5fb758e5d8f"
      },
      "execution_count": null,
      "outputs": [
        {
          "output_type": "execute_result",
          "data": {
            "text/plain": [
              "10"
            ]
          },
          "metadata": {},
          "execution_count": 15
        }
      ]
    },
    {
      "cell_type": "code",
      "source": [
        "x = 10.00001\n",
        "x = math.ceil(x)\n",
        "x"
      ],
      "metadata": {
        "colab": {
          "base_uri": "https://localhost:8080/"
        },
        "id": "T6TL6kJzeoGY",
        "outputId": "8dfd1c8c-66b4-4443-efec-1371db7902af"
      },
      "execution_count": null,
      "outputs": [
        {
          "output_type": "execute_result",
          "data": {
            "text/plain": [
              "11"
            ]
          },
          "metadata": {},
          "execution_count": 16
        }
      ]
    },
    {
      "cell_type": "code",
      "source": [
        "x = 10.573434\n",
        "x = round(x,2)\n",
        "x"
      ],
      "metadata": {
        "colab": {
          "base_uri": "https://localhost:8080/"
        },
        "id": "8WH_QiHVe2IV",
        "outputId": "40b124b2-f21c-4667-a138-7a926be03dfc"
      },
      "execution_count": null,
      "outputs": [
        {
          "output_type": "execute_result",
          "data": {
            "text/plain": [
              "10.57"
            ]
          },
          "metadata": {},
          "execution_count": 17
        }
      ]
    },
    {
      "cell_type": "code",
      "source": [
        "x = 10.573434\n",
        "x = round(x,0)\n",
        "x"
      ],
      "metadata": {
        "colab": {
          "base_uri": "https://localhost:8080/"
        },
        "id": "289Hj66Cfa7I",
        "outputId": "8fd37652-8e19-486b-f704-ec62b5999c56"
      },
      "execution_count": null,
      "outputs": [
        {
          "output_type": "execute_result",
          "data": {
            "text/plain": [
              "11.0"
            ]
          },
          "metadata": {},
          "execution_count": 18
        }
      ]
    },
    {
      "cell_type": "code",
      "source": [
        "x = math.log(math.e)\n",
        "x"
      ],
      "metadata": {
        "id": "Bh0--ubHiEUl",
        "colab": {
          "base_uri": "https://localhost:8080/"
        },
        "outputId": "fbeb817b-e17c-474c-e95a-bb347e391190"
      },
      "execution_count": null,
      "outputs": [
        {
          "output_type": "execute_result",
          "data": {
            "text/plain": [
              "1.0"
            ]
          },
          "metadata": {},
          "execution_count": 19
        }
      ]
    },
    {
      "cell_type": "code",
      "source": [
        "x = math.log(100,10)\n",
        "x"
      ],
      "metadata": {
        "colab": {
          "base_uri": "https://localhost:8080/"
        },
        "id": "i9yO9S2Lf19T",
        "outputId": "37a7c43e-32b1-4a22-e672-a56e9a8e0216"
      },
      "execution_count": null,
      "outputs": [
        {
          "output_type": "execute_result",
          "data": {
            "text/plain": [
              "2.0"
            ]
          },
          "metadata": {},
          "execution_count": 20
        }
      ]
    },
    {
      "cell_type": "code",
      "source": [
        "x = math.sqrt(49)\n",
        "print(x)"
      ],
      "metadata": {
        "colab": {
          "base_uri": "https://localhost:8080/"
        },
        "id": "jHaCKL7OgPjz",
        "outputId": "710cd4b9-8f69-4d3b-8a3c-c856e62343af"
      },
      "execution_count": null,
      "outputs": [
        {
          "output_type": "stream",
          "name": "stdout",
          "text": [
            "7.0\n"
          ]
        }
      ]
    },
    {
      "cell_type": "code",
      "source": [
        "x = math.sin(math.pi/2)\n",
        "x"
      ],
      "metadata": {
        "colab": {
          "base_uri": "https://localhost:8080/"
        },
        "id": "OUxA5cNMgckq",
        "outputId": "1b23a975-2019-4868-926e-f8a3db46e54d"
      },
      "execution_count": null,
      "outputs": [
        {
          "output_type": "execute_result",
          "data": {
            "text/plain": [
              "1.0"
            ]
          },
          "metadata": {},
          "execution_count": 22
        }
      ]
    },
    {
      "cell_type": "code",
      "source": [
        "x = math.asin(1)\n",
        "x"
      ],
      "metadata": {
        "colab": {
          "base_uri": "https://localhost:8080/"
        },
        "id": "6S7m5WUri9Y3",
        "outputId": "0abad962-74f5-48f6-930d-95aebe173da3"
      },
      "execution_count": null,
      "outputs": [
        {
          "output_type": "execute_result",
          "data": {
            "text/plain": [
              "1.5707963267948966"
            ]
          },
          "metadata": {},
          "execution_count": 23
        }
      ]
    },
    {
      "cell_type": "code",
      "source": [
        "x = math.cos(0)\n",
        "x"
      ],
      "metadata": {
        "colab": {
          "base_uri": "https://localhost:8080/"
        },
        "id": "mlVKNZyGn0DF",
        "outputId": "fdfc8b88-29e8-4f9c-baaa-49f5944dbf2f"
      },
      "execution_count": null,
      "outputs": [
        {
          "output_type": "execute_result",
          "data": {
            "text/plain": [
              "1.0"
            ]
          },
          "metadata": {},
          "execution_count": 24
        }
      ]
    },
    {
      "cell_type": "code",
      "source": [
        "x = math.acos(1)\n",
        "x"
      ],
      "metadata": {
        "colab": {
          "base_uri": "https://localhost:8080/"
        },
        "id": "NpsHG1yfn5u3",
        "outputId": "f0b9e744-6c3d-4c05-ac24-fdde4fd8064b"
      },
      "execution_count": null,
      "outputs": [
        {
          "output_type": "execute_result",
          "data": {
            "text/plain": [
              "0.0"
            ]
          },
          "metadata": {},
          "execution_count": 25
        }
      ]
    },
    {
      "cell_type": "code",
      "source": [
        "x = math.tan(0)\n",
        "x"
      ],
      "metadata": {
        "colab": {
          "base_uri": "https://localhost:8080/"
        },
        "id": "g-WRqHkroNax",
        "outputId": "0b2b0937-39c2-495d-f0db-ff0bbe4fd1ae"
      },
      "execution_count": null,
      "outputs": [
        {
          "output_type": "execute_result",
          "data": {
            "text/plain": [
              "0.0"
            ]
          },
          "metadata": {},
          "execution_count": 26
        }
      ]
    },
    {
      "cell_type": "code",
      "source": [
        "x = math.degrees(math.pi)\n",
        "x"
      ],
      "metadata": {
        "colab": {
          "base_uri": "https://localhost:8080/"
        },
        "id": "cMCDSkIfogkN",
        "outputId": "e3f951d9-122a-489f-b616-8cb321428425"
      },
      "execution_count": null,
      "outputs": [
        {
          "output_type": "execute_result",
          "data": {
            "text/plain": [
              "180.0"
            ]
          },
          "metadata": {},
          "execution_count": 27
        }
      ]
    },
    {
      "cell_type": "code",
      "source": [
        "x = math.radians(180)\n",
        "x"
      ],
      "metadata": {
        "colab": {
          "base_uri": "https://localhost:8080/"
        },
        "id": "JXzP38-Qol-V",
        "outputId": "790819b7-215d-4814-b91e-dfaebb328bb6"
      },
      "execution_count": null,
      "outputs": [
        {
          "output_type": "execute_result",
          "data": {
            "text/plain": [
              "3.141592653589793"
            ]
          },
          "metadata": {},
          "execution_count": 28
        }
      ]
    },
    {
      "cell_type": "markdown",
      "source": [
        "# The ord and chr Functions\n",
        "ord function returns ACII value of Character\n",
        "\n",
        "\n"
      ],
      "metadata": {
        "id": "pLLuwHUNpMKA"
      }
    },
    {
      "cell_type": "code",
      "source": [
        "ord('A')"
      ],
      "metadata": {
        "colab": {
          "base_uri": "https://localhost:8080/"
        },
        "id": "R8581-mqpWS7",
        "outputId": "b0d0748c-4ec1-4bfc-e838-456be7b66095"
      },
      "execution_count": null,
      "outputs": [
        {
          "output_type": "execute_result",
          "data": {
            "text/plain": [
              "65"
            ]
          },
          "metadata": {},
          "execution_count": 29
        }
      ]
    },
    {
      "cell_type": "code",
      "source": [
        "ord('a')"
      ],
      "metadata": {
        "colab": {
          "base_uri": "https://localhost:8080/"
        },
        "id": "EqaLhA9MpxDp",
        "outputId": "6f2bcbb5-0a05-4ec7-b24e-dd1b4bcdca3a"
      },
      "execution_count": null,
      "outputs": [
        {
          "output_type": "execute_result",
          "data": {
            "text/plain": [
              "97"
            ]
          },
          "metadata": {},
          "execution_count": 30
        }
      ]
    },
    {
      "cell_type": "markdown",
      "source": [
        "retrun char base on ascii value"
      ],
      "metadata": {
        "id": "q6w6PKTXp2bN"
      }
    },
    {
      "cell_type": "code",
      "source": [
        "chr(97)"
      ],
      "metadata": {
        "colab": {
          "base_uri": "https://localhost:8080/",
          "height": 36
        },
        "id": "BHa6pvuXp1z4",
        "outputId": "9da92fd4-accd-4e1b-e254-3bac7f30165d"
      },
      "execution_count": null,
      "outputs": [
        {
          "output_type": "execute_result",
          "data": {
            "text/plain": [
              "'a'"
            ],
            "application/vnd.google.colaboratory.intrinsic+json": {
              "type": "string"
            }
          },
          "metadata": {},
          "execution_count": 31
        }
      ]
    },
    {
      "cell_type": "code",
      "source": [
        "chr(255)"
      ],
      "metadata": {
        "colab": {
          "base_uri": "https://localhost:8080/",
          "height": 36
        },
        "id": "wNC0oG9fqFU-",
        "outputId": "4fc2a006-a02a-41c3-a436-acabcf4c2731"
      },
      "execution_count": null,
      "outputs": [
        {
          "output_type": "execute_result",
          "data": {
            "text/plain": [
              "'ÿ'"
            ],
            "application/vnd.google.colaboratory.intrinsic+json": {
              "type": "string"
            }
          },
          "metadata": {},
          "execution_count": 32
        }
      ]
    },
    {
      "cell_type": "markdown",
      "source": [
        "## Summary\n",
        "\n",
        "\n",
        "### 🐍 Python Basics (Easy Notes)\n",
        "\n",
        "1. **Tokens** → Python breaks each program into small parts called *tokens*.\n",
        "   (Examples: keywords, variables, operators, etc.)\n",
        "\n",
        "2. **Literals** → Fixed values written directly in the program.\n",
        "\n",
        "   * Example: `18` (integer), `21.98` (float), `\"Q\"` (character), `\"Hello\"` (string).\n",
        "\n",
        "3. **`type()`** → Built-in function to check the type of any value.\n",
        "\n",
        "4. **Keywords** → Special reserved words in Python.\n",
        "\n",
        "   * Example: `if`, `else`, `while`, `for`, `class`, `True`, `False` etc.\n",
        "   * Keywords **cannot** be used as variable names.\n",
        "\n",
        "5. **Identifiers** → Names given to variables, functions, classes, etc.\n",
        "\n",
        "   * Can contain letters, digits, underscores.\n",
        "   * Cannot start with a digit.\n",
        "   * Cannot be a keyword.\n",
        "   * Example: `Name`, `Roll_NO`, `A1`, `_address`.\n",
        "\n",
        "6. **Everything in Python is an object.**\n",
        "\n",
        "7. **`int()`** → Converts a string or number to an integer.\n",
        "\n",
        "   * Example: `int(\"10\") → 10`\n",
        "\n",
        "8. **`float()`** → Converts a string or number to a decimal (floating point).\n",
        "\n",
        "   * Example: `float(\"12.5\") → 12.5`\n",
        "\n",
        "9. **Boolean (bool)** → Data type with only two values: `True` or `False`.\n",
        "\n",
        "10. **`print()`** → Displays output on the screen.\n",
        "\n",
        "11. **`input()`** → Takes input from the user (always as string).\n",
        "\n",
        "12. **`format()`** → Used to create formatted strings.\n",
        "\n",
        "13. **Types of Tokens** →\n",
        "\n",
        "    * **Keywords**\n",
        "    * **Identifiers / Variables**\n",
        "    * **Operators**\n",
        "    * **Delimiters**\n",
        "    * **Literals**\n",
        "\n",
        "14. **Operators in Python**\n",
        "\n",
        "    * Arithmetic: `+  -  *  /  //  %  **`\n",
        "    * Relational: `==  !=  <  >  <=  >=`\n",
        "    * Logical: `and  or  not`\n",
        "    * Bitwise: `&  |  ~  ^  <<  >>`\n",
        "\n",
        "15. **Delimiters** → Symbols with special meaning.\n",
        "\n",
        "    * Examples: `( ) [ ] { } , : . = ;`\n",
        "    * Assignment operators: `+=  -=  *=  /=  //=  %=  &=  |=  ^=  >>=  <<=  **=`\n"
      ],
      "metadata": {
        "id": "_ly-YL1lric_"
      }
    },
    {
      "cell_type": "markdown",
      "source": [
        "## 🔹 Key Terms in Python\n",
        "\n",
        "1. **`chr()`**\n",
        "\n",
        "   * Returns the **character** for a given ASCII (or Unicode) value.\n",
        "   * Example: `chr(65)` → `'A'`\n",
        "\n",
        "2. **`ord()`**\n",
        "\n",
        "   * Returns the **ASCII (or Unicode) value** of a given character.\n",
        "   * Example: `ord('A')` → `65`\n",
        "\n",
        "3. **`print()`**\n",
        "\n",
        "   * Displays the output on the screen.\n",
        "   * Example: `print(\"Hello\")` → `Hello`\n",
        "\n",
        "4. **`end` (argument in `print()`)**\n",
        "\n",
        "   * Used inside the `print()` function to control what comes at the end of the output.\n",
        "   * By default, `end=\"\\n\"` (new line).\n",
        "   * Example:\n",
        "\n",
        "     ```python\n",
        "     print(\"Hello\", end=\" \")\n",
        "     print(\"World\")\n",
        "     ```\n",
        "\n",
        "     Output: `Hello World`\n",
        "\n",
        "5. **`format()`**\n",
        "\n",
        "   * Used to format strings and numbers.\n",
        "   * Example:\n",
        "\n",
        "     ```python\n",
        "     print(\"Value: {:.2f}\".format(3.14159))\n",
        "     ```\n",
        "\n",
        "     Output: `Value: 3.14`\n",
        "\n",
        "6. **`input()`**\n",
        "\n",
        "   * Accepts data (always as a string) from the user.\n",
        "   * Example:\n",
        "\n",
        "     ```python\n",
        "     name = input(\"Enter your name: \")\n",
        "     ```\n",
        "\n",
        "7. **`int()`**\n",
        "\n",
        "   * Converts a value (string or float) into an integer.\n",
        "   * Example: `int(\"10\")` → `10`\n",
        "\n",
        "8. **`str()`**\n",
        "\n",
        "   * Converts a value into a string.\n",
        "   * Example: `str(123)` → `\"123\"`\n",
        "\n",
        "9. **`type()`**\n",
        "\n",
        "   * Returns the exact data type of a value.\n",
        "   * Example: `type(10)` → `<class 'int'>`\n",
        "\n",
        "10. **Identifier**\n",
        "\n",
        "    * A **name given to variables, functions, or classes**.\n",
        "    * Example: `x = 5` → here `x` is an identifier.\n",
        "\n",
        "11. **Tokens**\n",
        "\n",
        "    * The smallest unit of a Python program.\n",
        "    * Types of tokens:\n",
        "\n",
        "      * Keywords (`if`, `while`, `for`)\n",
        "      * Identifiers (`x`, `total`)\n",
        "      * Literals (`10`, `\"Hello\"`)\n",
        "      * Operators (`+`, `-`, `*`, `/`)\n",
        "      * Punctuators (`,`, `:`, `()`)\n",
        "\n",
        "12. **Inbuilt Math Functions** (from the `math` module):\n",
        "\n",
        "    * `abs(x)` → absolute value\n",
        "    * `max(a, b, …)` → largest value\n",
        "    * `round(x, n)` → round to n decimal places\n",
        "    * `ceil(x)` → round up\n",
        "    * `floor(x)` → round down\n",
        "    * `log(x)` → natural log (base e)\n",
        "    * `exp(x)` → eˣ\n",
        "    * `sqrt(x)` → square root\n",
        "    * `sin(x), cos(x), tan(x)` → trigonometric functions (input in radians)\n",
        "    * `asin(x), acos(x), atan(x)` → inverse trigonometric functions (output in radians)\n",
        "    * `degrees(x)` → converts radians → degrees\n",
        "    * `radians(x)` → converts degrees → radians\n"
      ],
      "metadata": {
        "id": "nJGwVvgo2PGk"
      }
    },
    {
      "cell_type": "markdown",
      "source": [
        "# Excercise"
      ],
      "metadata": {
        "id": "bpOjbFws2lY4"
      }
    },
    {
      "cell_type": "markdown",
      "source": [
        "### 🔹 Rounding Halfway Rules\n",
        "\n",
        "1. **Rounding Half Up (common “school” rounding):**\n",
        "\n",
        "   * If the fractional part is exactly 0.5:\n",
        "\n",
        "     * **Positive numbers:** round **up** to the next greater integer.\n",
        "\n",
        "       * Example: `4.5 → 5` ✅\n",
        "     * **Negative numbers:** round **down** to the next more negative integer.\n",
        "\n",
        "       * Example: `-4.5 → -5` ✅\n",
        "\n",
        "   > Think: “halfway goes **away from zero**.”\n",
        "\n",
        "\n",
        "\n",
        "2. **Rounding Half Down:**\n",
        "\n",
        "   * If the fractional part is exactly 0.5:\n",
        "\n",
        "     * **Positive numbers:** round **down** to the smaller integer.\n",
        "\n",
        "       * Example: `4.5 → 4`\n",
        "     * **Negative numbers:** round **up** (toward zero).\n",
        "\n",
        "       * Example: `-4.5 → -4`\n",
        "\n",
        "   > Think: “halfway goes **toward zero**.”\n",
        "\n",
        "\n",
        "3. **Rounding Half to Even (Python’s `round()`):**\n",
        "\n",
        "   * If the fractional part is exactly 0.5, round to **the nearest even integer**.\n",
        "\n",
        "     * Example:\n",
        "\n",
        "       * `2.5 → 2` (2 is even)\n",
        "       * `3.5 → 4` (4 is even)\n",
        "       * `-2.5 → -2`\n",
        "       * `-3.5 → -4`\n",
        "\n",
        "---\n",
        "\n",
        "### 🔹 Summary for Positive vs Negative\n",
        "\n",
        "| Rule                  | Positive 0.5 | Negative -0.5 |\n",
        "| --------------------- | ------------ | ------------- |\n",
        "| Half Up (school)      | 1.5 → 2      | -1.5 → -2     |\n",
        "| Half Down             | 1.5 → 1      | -1.5 → -1     |\n",
        "| Half to Even (Python) | 1.5 → 2      | -1.5 → -2     |\n",
        "\n",
        "* ✅ **Positive value rounding**: halfway goes **toward the greater integer** in “half up”\n",
        "* ✅ **Negative value rounding**: halfway goes **toward the more negative integer** in “half up”\n"
      ],
      "metadata": {
        "id": "7MtroymS8dvk"
      }
    },
    {
      "cell_type": "code",
      "source": [
        "round(1.5)"
      ],
      "metadata": {
        "id": "8Ej9QFXYrj6-",
        "colab": {
          "base_uri": "https://localhost:8080/"
        },
        "outputId": "5ce2344b-0a1c-4011-b84e-63d8261a60d8"
      },
      "execution_count": null,
      "outputs": [
        {
          "output_type": "execute_result",
          "data": {
            "text/plain": [
              "2"
            ]
          },
          "metadata": {},
          "execution_count": 33
        }
      ]
    },
    {
      "cell_type": "code",
      "source": [
        "round(-1.5)"
      ],
      "metadata": {
        "colab": {
          "base_uri": "https://localhost:8080/"
        },
        "id": "NKmHb3se2rS5",
        "outputId": "14784b40-eb61-4e18-da2e-48a7a75f387f"
      },
      "execution_count": null,
      "outputs": [
        {
          "output_type": "execute_result",
          "data": {
            "text/plain": [
              "-2"
            ]
          },
          "metadata": {},
          "execution_count": 34
        }
      ]
    },
    {
      "cell_type": "code",
      "source": [
        "_ = 10\n",
        "_"
      ],
      "metadata": {
        "colab": {
          "base_uri": "https://localhost:8080/"
        },
        "id": "s6SdeqUsVxGS",
        "outputId": "eecf54db-f2bd-4a14-98c8-e1bce85313fe"
      },
      "execution_count": null,
      "outputs": [
        {
          "output_type": "execute_result",
          "data": {
            "text/plain": [
              "10"
            ]
          },
          "metadata": {},
          "execution_count": 35
        }
      ]
    },
    {
      "cell_type": "code",
      "source": [
        "a = 15//4 #floor division\n",
        "a"
      ],
      "metadata": {
        "colab": {
          "base_uri": "https://localhost:8080/"
        },
        "id": "kqe6m-ufZ8SM",
        "outputId": "373a8709-09b3-4baf-8642-cd903ebadac8"
      },
      "execution_count": null,
      "outputs": [
        {
          "output_type": "execute_result",
          "data": {
            "text/plain": [
              "3"
            ]
          },
          "metadata": {},
          "execution_count": 36
        }
      ]
    },
    {
      "cell_type": "markdown",
      "source": [
        "Problem 1:"
      ],
      "metadata": {
        "id": "_Se7VHYddbbs"
      }
    },
    {
      "cell_type": "code",
      "source": [
        "length = float(input(\"Enter the length of the rectangle: \"))\n",
        "width = float(input(\"Enter the width of the rectangle: \"))\n",
        "\n",
        "if length == width:\n",
        "    print(\"The rectangle is a square.\")\n",
        "else:\n",
        "    print(\"The rectangle is not a square.\")\n"
      ],
      "metadata": {
        "colab": {
          "base_uri": "https://localhost:8080/"
        },
        "id": "m6ZH6XS4danG",
        "outputId": "f0753ba0-9a89-434a-dfb7-42ed576cb015"
      },
      "execution_count": null,
      "outputs": [
        {
          "output_type": "stream",
          "name": "stdout",
          "text": [
            "Enter the length of the rectangle: 2\n",
            "Enter the width of the rectangle: 2\n",
            "The rectangle is a square.\n"
          ]
        }
      ]
    },
    {
      "cell_type": "markdown",
      "source": [
        "Problem 2:"
      ],
      "metadata": {
        "id": "1XqJF5O2eA-k"
      }
    },
    {
      "cell_type": "code",
      "source": [
        "num1 = float(input(\"Enter the first number: \"))\n",
        "num2 = float(input(\"Enter the second number: \"))\n",
        "num3 = float(input(\"Enter the third number: \"))\n",
        "\n",
        "if num1 >= num2 and num1 >= num3:\n",
        "    largest = num1\n",
        "elif num2 >= num3:\n",
        "    largest = num2\n",
        "else:\n",
        "    largest = num3\n",
        "\n",
        "print(\"The largest number is:\", largest)"
      ],
      "metadata": {
        "colab": {
          "base_uri": "https://localhost:8080/"
        },
        "id": "O_9D1r4ReDhM",
        "outputId": "4afbb7e3-bf88-4118-d993-4c3f881ddbf9"
      },
      "execution_count": null,
      "outputs": [
        {
          "output_type": "stream",
          "name": "stdout",
          "text": [
            "Enter the first number: 12\n",
            "Enter the second number: 4\n",
            "Enter the third number: -4\n",
            "The largest number is: 12.0\n"
          ]
        }
      ]
    },
    {
      "cell_type": "markdown",
      "source": [
        "Problem 3"
      ],
      "metadata": {
        "id": "cL4W64-3fiyP"
      }
    },
    {
      "cell_type": "code",
      "source": [
        "number = int(input(\"Enter a number: \"))\n",
        "\n",
        "if number % 2 == 0:\n",
        "    print(number, \"is even.\")\n",
        "else:\n",
        "    print(number, \"is odd.\")"
      ],
      "metadata": {
        "colab": {
          "base_uri": "https://localhost:8080/"
        },
        "id": "mtU7JSOufkfW",
        "outputId": "46b2527a-1ab7-4c2e-e7a3-68d9866e6b66"
      },
      "execution_count": null,
      "outputs": [
        {
          "output_type": "stream",
          "name": "stdout",
          "text": [
            "Enter a number: 15\n",
            "15 is odd.\n"
          ]
        }
      ]
    },
    {
      "cell_type": "markdown",
      "source": [
        "Proble 4"
      ],
      "metadata": {
        "id": "TYIO2rFlgm5D"
      }
    },
    {
      "cell_type": "code",
      "source": [
        "score = int(input(\"Enter the student's score: \"))\n",
        "\n",
        "if score > 90:\n",
        "  print(\"A\")\n",
        "elif score > 80:\n",
        "  print(\"B\")\n",
        "elif score >= 60:\n",
        "  print(\"C\")\n",
        "else:\n",
        "  print(\"D\")\n",
        "\n",
        "score = int(input(\"Enter the student's score: \"))\n",
        "\n",
        "if score > 90:\n",
        "  print(\"A\")\n",
        "elif score > 80 and score <=90:\n",
        "  print(\"B\")\n",
        "elif score >= 60 and score <= 80:\n",
        "  print(\"C\")\n",
        "else:\n",
        "  print(\"D\")\n",
        "\n"
      ],
      "metadata": {
        "colab": {
          "base_uri": "https://localhost:8080/"
        },
        "id": "5AZjsHgAgnzk",
        "outputId": "d841ea13-e7cc-4d74-a7e7-cb75821d8156"
      },
      "execution_count": null,
      "outputs": [
        {
          "output_type": "stream",
          "name": "stdout",
          "text": [
            "Enter the student's score: 78\n",
            "C\n",
            "Enter the student's score: 56\n",
            "D\n"
          ]
        }
      ]
    },
    {
      "cell_type": "markdown",
      "source": [
        "Problem 5"
      ],
      "metadata": {
        "id": "ss33f9QA8g-V"
      }
    },
    {
      "cell_type": "code",
      "source": [
        "year = int(input(\"Enter a year: \"))\n",
        "\n",
        "if (year % 4 == 0 and year % 100 != 0) or (year % 400 == 0):\n",
        "    print(year, \"is a leap year.\")\n",
        "else:\n",
        "    print(year, \"not a leap year.\")"
      ],
      "metadata": {
        "colab": {
          "base_uri": "https://localhost:8080/"
        },
        "id": "Z3rD7Kp38iWx",
        "outputId": "8ac7e659-7fd6-4122-a876-a1125bd33cea"
      },
      "execution_count": null,
      "outputs": [
        {
          "output_type": "stream",
          "name": "stdout",
          "text": [
            "Enter a year: 15\n",
            "15 not a leap year.\n"
          ]
        }
      ]
    },
    {
      "cell_type": "code",
      "source": [
        "x = range(10)\n",
        "x\n",
        "\n",
        "x[9]"
      ],
      "metadata": {
        "colab": {
          "base_uri": "https://localhost:8080/"
        },
        "id": "cFuXjpRIETOF",
        "outputId": "b2391ad1-c066-4b64-abf7-4b3e1bb8c722"
      },
      "execution_count": null,
      "outputs": [
        {
          "output_type": "execute_result",
          "data": {
            "text/plain": [
              "9"
            ]
          },
          "metadata": {},
          "execution_count": 42
        }
      ]
    },
    {
      "cell_type": "code",
      "source": [
        "x = range(10)\n",
        "\n",
        "print(f\"1. Object created by range(10): {x}\")\n",
        "print(f\"2. The type of the object is: {type(x)}\")"
      ],
      "metadata": {
        "id": "VEd7phbOFefe",
        "outputId": "771d23da-3430-44a7-e9b3-421a9c651a4e",
        "colab": {
          "base_uri": "https://localhost:8080/"
        }
      },
      "execution_count": null,
      "outputs": [
        {
          "output_type": "stream",
          "name": "stdout",
          "text": [
            "1. Object created by range(10): range(0, 10)\n",
            "2. The type of the object is: <class 'range'>\n"
          ]
        }
      ]
    },
    {
      "cell_type": "code",
      "source": [
        "x = list(range(2,10,2))\n",
        "x"
      ],
      "metadata": {
        "id": "Twmh67ptnlf6",
        "outputId": "8f3c33d3-46a3-44e8-f244-19af2d7dd543",
        "colab": {
          "base_uri": "https://localhost:8080/"
        }
      },
      "execution_count": null,
      "outputs": [
        {
          "output_type": "execute_result",
          "data": {
            "text/plain": [
              "[2, 4, 6, 8]"
            ]
          },
          "metadata": {},
          "execution_count": 44
        }
      ]
    },
    {
      "cell_type": "code",
      "source": [
        "for i in range(1,11):\n",
        "  for j in range(1,11):\n",
        "    print(f\"{i} * {j} = {i*j}\")\n",
        "  print()\n",
        "  print()"
      ],
      "metadata": {
        "colab": {
          "base_uri": "https://localhost:8080/"
        },
        "id": "o7uieBSZHUtK",
        "outputId": "a3c0da18-2e63-4c3e-89c0-0bb2cb3acbdb"
      },
      "execution_count": null,
      "outputs": [
        {
          "output_type": "stream",
          "name": "stdout",
          "text": [
            "1 * 1 = 1\n",
            "1 * 2 = 2\n",
            "1 * 3 = 3\n",
            "1 * 4 = 4\n",
            "1 * 5 = 5\n",
            "1 * 6 = 6\n",
            "1 * 7 = 7\n",
            "1 * 8 = 8\n",
            "1 * 9 = 9\n",
            "1 * 10 = 10\n",
            "\n",
            "\n",
            "2 * 1 = 2\n",
            "2 * 2 = 4\n",
            "2 * 3 = 6\n",
            "2 * 4 = 8\n",
            "2 * 5 = 10\n",
            "2 * 6 = 12\n",
            "2 * 7 = 14\n",
            "2 * 8 = 16\n",
            "2 * 9 = 18\n",
            "2 * 10 = 20\n",
            "\n",
            "\n",
            "3 * 1 = 3\n",
            "3 * 2 = 6\n",
            "3 * 3 = 9\n",
            "3 * 4 = 12\n",
            "3 * 5 = 15\n",
            "3 * 6 = 18\n",
            "3 * 7 = 21\n",
            "3 * 8 = 24\n",
            "3 * 9 = 27\n",
            "3 * 10 = 30\n",
            "\n",
            "\n",
            "4 * 1 = 4\n",
            "4 * 2 = 8\n",
            "4 * 3 = 12\n",
            "4 * 4 = 16\n",
            "4 * 5 = 20\n",
            "4 * 6 = 24\n",
            "4 * 7 = 28\n",
            "4 * 8 = 32\n",
            "4 * 9 = 36\n",
            "4 * 10 = 40\n",
            "\n",
            "\n",
            "5 * 1 = 5\n",
            "5 * 2 = 10\n",
            "5 * 3 = 15\n",
            "5 * 4 = 20\n",
            "5 * 5 = 25\n",
            "5 * 6 = 30\n",
            "5 * 7 = 35\n",
            "5 * 8 = 40\n",
            "5 * 9 = 45\n",
            "5 * 10 = 50\n",
            "\n",
            "\n",
            "6 * 1 = 6\n",
            "6 * 2 = 12\n",
            "6 * 3 = 18\n",
            "6 * 4 = 24\n",
            "6 * 5 = 30\n",
            "6 * 6 = 36\n",
            "6 * 7 = 42\n",
            "6 * 8 = 48\n",
            "6 * 9 = 54\n",
            "6 * 10 = 60\n",
            "\n",
            "\n",
            "7 * 1 = 7\n",
            "7 * 2 = 14\n",
            "7 * 3 = 21\n",
            "7 * 4 = 28\n",
            "7 * 5 = 35\n",
            "7 * 6 = 42\n",
            "7 * 7 = 49\n",
            "7 * 8 = 56\n",
            "7 * 9 = 63\n",
            "7 * 10 = 70\n",
            "\n",
            "\n",
            "8 * 1 = 8\n",
            "8 * 2 = 16\n",
            "8 * 3 = 24\n",
            "8 * 4 = 32\n",
            "8 * 5 = 40\n",
            "8 * 6 = 48\n",
            "8 * 7 = 56\n",
            "8 * 8 = 64\n",
            "8 * 9 = 72\n",
            "8 * 10 = 80\n",
            "\n",
            "\n",
            "9 * 1 = 9\n",
            "9 * 2 = 18\n",
            "9 * 3 = 27\n",
            "9 * 4 = 36\n",
            "9 * 5 = 45\n",
            "9 * 6 = 54\n",
            "9 * 7 = 63\n",
            "9 * 8 = 72\n",
            "9 * 9 = 81\n",
            "9 * 10 = 90\n",
            "\n",
            "\n",
            "10 * 1 = 10\n",
            "10 * 2 = 20\n",
            "10 * 3 = 30\n",
            "10 * 4 = 40\n",
            "10 * 5 = 50\n",
            "10 * 6 = 60\n",
            "10 * 7 = 70\n",
            "10 * 8 = 80\n",
            "10 * 9 = 90\n",
            "10 * 10 = 100\n",
            "\n",
            "\n"
          ]
        }
      ]
    },
    {
      "cell_type": "markdown",
      "source": [
        "Pattern 01"
      ],
      "metadata": {
        "id": "U61c8PIaIYbA"
      }
    },
    {
      "cell_type": "code",
      "source": [
        "for i in range(10):\n",
        "  for j in range(i):\n",
        "    print(\"* \", end=\"\")\n",
        "  print()"
      ],
      "metadata": {
        "colab": {
          "base_uri": "https://localhost:8080/"
        },
        "id": "vf1bQP_EH4dV",
        "outputId": "bab3556e-cf7b-4e6c-f1d5-eee279fa77e8"
      },
      "execution_count": null,
      "outputs": [
        {
          "output_type": "stream",
          "name": "stdout",
          "text": [
            "\n",
            "* \n",
            "* * \n",
            "* * * \n",
            "* * * * \n",
            "* * * * * \n",
            "* * * * * * \n",
            "* * * * * * * \n",
            "* * * * * * * * \n",
            "* * * * * * * * * \n"
          ]
        }
      ]
    },
    {
      "cell_type": "markdown",
      "source": [
        "Problem 2"
      ],
      "metadata": {
        "id": "Lnoalh3oJxY4"
      }
    },
    {
      "cell_type": "code",
      "source": [
        "for i in range(10):\n",
        "  for j in range(10):\n",
        "    if i <= j:\n",
        "      print(\" \", end=\"\")\n",
        "    else:\n",
        "      print(\"* \", end=\"\")\n",
        "  print()"
      ],
      "metadata": {
        "colab": {
          "base_uri": "https://localhost:8080/"
        },
        "id": "i1w0MfCtIwUI",
        "outputId": "feeba509-45c4-46d1-c0c2-1072bda53177"
      },
      "execution_count": null,
      "outputs": [
        {
          "output_type": "stream",
          "name": "stdout",
          "text": [
            "          \n",
            "*          \n",
            "* *         \n",
            "* * *        \n",
            "* * * *       \n",
            "* * * * *      \n",
            "* * * * * *     \n",
            "* * * * * * *    \n",
            "* * * * * * * *   \n",
            "* * * * * * * * *  \n"
          ]
        }
      ]
    },
    {
      "cell_type": "markdown",
      "source": [
        "Problem 3"
      ],
      "metadata": {
        "id": "6WXJ4IsNgI25"
      }
    },
    {
      "cell_type": "code",
      "source": [
        "bajar_list = [[\"Alu\", \"Peyaj\", \"Roshun\"], [10,20,30], ['a','b','c','d','e']]\n",
        "\n",
        "for bajar in bajar_list:\n",
        "  for item in bajar:\n",
        "    print(item, end=\" \")\n",
        "  print()"
      ],
      "metadata": {
        "colab": {
          "base_uri": "https://localhost:8080/"
        },
        "id": "UgdzSZDSgKAr",
        "outputId": "5fb98877-3d96-4b07-c32f-58b7cc4370d2"
      },
      "execution_count": null,
      "outputs": [
        {
          "output_type": "stream",
          "name": "stdout",
          "text": [
            "Alu Peyaj Roshun \n",
            "10 20 30 \n",
            "a b c d e \n"
          ]
        }
      ]
    },
    {
      "cell_type": "markdown",
      "source": [
        "Problem 4"
      ],
      "metadata": {
        "id": "9ZsaL5dSg33a"
      }
    },
    {
      "cell_type": "code",
      "source": [
        "number = int(input(\"Whose number multiflication you wnat: \"))\n",
        "\n",
        "for i in range(1,11):\n",
        "  print(f\"{number} * {i} = {number*i}\")"
      ],
      "metadata": {
        "colab": {
          "base_uri": "https://localhost:8080/"
        },
        "id": "VGtHGQyAg56K",
        "outputId": "8f17ac9a-4c1c-499b-f780-14cc65915df2"
      },
      "execution_count": null,
      "outputs": [
        {
          "output_type": "stream",
          "name": "stdout",
          "text": [
            "Whose number multiflication you wnat: 12\n",
            "12 * 1 = 12\n",
            "12 * 2 = 24\n",
            "12 * 3 = 36\n",
            "12 * 4 = 48\n",
            "12 * 5 = 60\n",
            "12 * 6 = 72\n",
            "12 * 7 = 84\n",
            "12 * 8 = 96\n",
            "12 * 9 = 108\n",
            "12 * 10 = 120\n"
          ]
        }
      ]
    },
    {
      "cell_type": "markdown",
      "source": [
        "Problem 5"
      ],
      "metadata": {
        "id": "L63W-j0UhZaq"
      }
    },
    {
      "cell_type": "code",
      "source": [
        "number = int(input(\"Whose number factorial you wnat: \"))\n",
        "fact = 1\n",
        "for i in range(number, 1, -1):\n",
        "  fact = fact * i\n",
        "\n",
        "print(f\"Factorial of {number} is {fact}\")"
      ],
      "metadata": {
        "colab": {
          "base_uri": "https://localhost:8080/"
        },
        "id": "DlHNHWYohZAw",
        "outputId": "a5244ba6-90b6-4a6b-8777-400b328e0072"
      },
      "execution_count": null,
      "outputs": [
        {
          "output_type": "stream",
          "name": "stdout",
          "text": [
            "Whose number factorial you wnat: 12\n",
            "Factorial of 12 is 479001600\n"
          ]
        }
      ]
    },
    {
      "cell_type": "markdown",
      "source": [
        "Problem 6"
      ],
      "metadata": {
        "id": "W-6kPBYbxlSh"
      }
    },
    {
      "cell_type": "code",
      "source": [
        "n = int(input(\"Enter Length of Fibonacci Number Series: \"))\n",
        "first_number = 0\n",
        "second_number = 1\n",
        "print(first_number, end=\" \")\n",
        "print(second_number, end=\" \")\n",
        "\n",
        "fibo = 0\n",
        "\n",
        "for i in range(n-2):\n",
        "  fibo = first_number + second_number\n",
        "  print(fibo, end=\" \")\n",
        "  first_number = second_number\n",
        "  second_number = fibo\n",
        "\n",
        "\n"
      ],
      "metadata": {
        "colab": {
          "base_uri": "https://localhost:8080/"
        },
        "id": "oQ95TpiXklYK",
        "outputId": "d3d2402f-a882-469f-e3de-b818a9813bb5"
      },
      "execution_count": null,
      "outputs": [
        {
          "output_type": "stream",
          "name": "stdout",
          "text": [
            "Enter Length of Fibonacci Number Series: 5\n",
            "0 1 1 2 3 "
          ]
        }
      ]
    },
    {
      "cell_type": "markdown",
      "source": [
        "Problem 7"
      ],
      "metadata": {
        "id": "Or-NVXwlxjoR"
      }
    },
    {
      "cell_type": "code",
      "source": [
        "numbers = [10,20,30,40,50]\n",
        "i = 0\n",
        "for number in numbers:\n",
        "  i+=1\n",
        "\n",
        "print(f\"Length Of Length is: {i}\")\n",
        "print(f'Length of Length is: {len(numbers)}')"
      ],
      "metadata": {
        "colab": {
          "base_uri": "https://localhost:8080/"
        },
        "id": "IbP_v9pJxjEO",
        "outputId": "4ea8ffad-d004-4667-e26d-ad0be8262e55"
      },
      "execution_count": null,
      "outputs": [
        {
          "output_type": "stream",
          "name": "stdout",
          "text": [
            "Length Of Length is: 5\n",
            "Length of Length is: 5\n"
          ]
        }
      ]
    },
    {
      "cell_type": "markdown",
      "source": [
        "Problem 8"
      ],
      "metadata": {
        "id": "oIb-uRso37t1"
      }
    },
    {
      "cell_type": "code",
      "source": [
        "number = int(input(\"Enter a number: \"))\n",
        "count = 0\n",
        "\n",
        "while number != 0:\n",
        "  number = number // 10\n",
        "  count += 1\n",
        "\n",
        "print(\"Number of digits:\", count)\n"
      ],
      "metadata": {
        "colab": {
          "base_uri": "https://localhost:8080/"
        },
        "id": "e7Q4kvn838vx",
        "outputId": "a5bb541c-4c59-419f-ca7e-a61252ef3a04"
      },
      "execution_count": null,
      "outputs": [
        {
          "output_type": "stream",
          "name": "stdout",
          "text": [
            "Enter a number: 12\n",
            "Number of digits: 2\n"
          ]
        }
      ]
    },
    {
      "cell_type": "markdown",
      "source": [
        "Problem 9"
      ],
      "metadata": {
        "id": "JVx9Sz0D0ndP"
      }
    },
    {
      "cell_type": "code",
      "source": [
        "number = int(input(\"Enter a number: \"))\n",
        "length = len(str(number))\n",
        "\n",
        "temp = number\n",
        "\n",
        "sum = 0\n",
        "\n",
        "while number != 0:\n",
        "  digit = number % 10\n",
        "  sum += digit ** length\n",
        "  number = number // 10\n",
        "\n",
        "if temp == sum:\n",
        "  print(f\"{temp} is an armstrong number\")\n",
        "else:\n",
        "  print(f\"{temp} is not an armstrong number\")"
      ],
      "metadata": {
        "id": "3vk4a-In5-2m",
        "colab": {
          "base_uri": "https://localhost:8080/"
        },
        "outputId": "2e880bf2-9a31-413c-edfd-12b9c3aadf62"
      },
      "execution_count": null,
      "outputs": [
        {
          "output_type": "stream",
          "name": "stdout",
          "text": [
            "Enter a number: 153\n",
            "153 is an armstrong number\n"
          ]
        }
      ]
    },
    {
      "cell_type": "code",
      "source": [
        "number = input(\"Enter a number: \")\n",
        "length = len(number)\n",
        "\n",
        "sum = 0\n",
        "\n",
        "for i in number:\n",
        "  sum += int(i)**length\n",
        "\n",
        "if sum == int(number):\n",
        "  print(\"Armstrong Number\")\n",
        "else:\n",
        "  print(\"Not Armstrong Number\")"
      ],
      "metadata": {
        "colab": {
          "base_uri": "https://localhost:8080/"
        },
        "id": "P3KSc5T559Q4",
        "outputId": "fc07976c-d4d5-4bcd-f9d7-0fa95d7998c0"
      },
      "execution_count": null,
      "outputs": [
        {
          "output_type": "stream",
          "name": "stdout",
          "text": [
            "Enter a number: 153\n",
            "Armstrong Number\n"
          ]
        }
      ]
    },
    {
      "cell_type": "markdown",
      "source": [
        "Problem 10"
      ],
      "metadata": {
        "id": "36hF-Vvs66Mr"
      }
    },
    {
      "cell_type": "code",
      "source": [
        "number = int(input(\"Enter a Number: \"))\n",
        "\n",
        "rev_number = 0\n",
        "\n",
        "while number != 0:\n",
        "  digit = number % 10\n",
        "  rev_number = rev_number * 10 + digit\n",
        "  number = number // 10\n",
        "\n",
        "print(f\"Reverse Number is: {rev_number}\")"
      ],
      "metadata": {
        "colab": {
          "base_uri": "https://localhost:8080/"
        },
        "id": "VwPxjr7N68U6",
        "outputId": "f79f9db1-16c5-4719-d1b5-d627e6e444c6"
      },
      "execution_count": null,
      "outputs": [
        {
          "output_type": "stream",
          "name": "stdout",
          "text": [
            "Enter a Number: 153\n",
            "Reverse Number is: 351\n"
          ]
        }
      ]
    },
    {
      "cell_type": "markdown",
      "source": [
        "# List"
      ],
      "metadata": {
        "id": "zTPzEJPtcS38"
      }
    },
    {
      "cell_type": "code",
      "source": [
        "li = [10,29,39,59,[39,32,2], \"abc\", \"def\", (10,20,30)]\n",
        "print(li)"
      ],
      "metadata": {
        "colab": {
          "base_uri": "https://localhost:8080/"
        },
        "id": "3HxB0sXKcUNw",
        "outputId": "18a81faf-abdf-48af-b30c-8b719a131517"
      },
      "execution_count": null,
      "outputs": [
        {
          "output_type": "stream",
          "name": "stdout",
          "text": [
            "[10, 29, 39, 59, [39, 32, 2], 'abc', 'def', (10, 20, 30)]\n"
          ]
        }
      ]
    },
    {
      "cell_type": "code",
      "source": [
        "print(li[0:5])"
      ],
      "metadata": {
        "colab": {
          "base_uri": "https://localhost:8080/"
        },
        "id": "OmHLLmRZcuri",
        "outputId": "75b40459-71e8-4619-89b6-a37cc3d255f2"
      },
      "execution_count": null,
      "outputs": [
        {
          "output_type": "stream",
          "name": "stdout",
          "text": [
            "[10, 29, 39, 59, [39, 32, 2]]\n"
          ]
        }
      ]
    },
    {
      "cell_type": "code",
      "source": [
        "print(li[0:5:2]) #start:end:step"
      ],
      "metadata": {
        "colab": {
          "base_uri": "https://localhost:8080/"
        },
        "id": "DqxEQL61doN_",
        "outputId": "6a38d782-27e8-4819-f871-a85707428225"
      },
      "execution_count": null,
      "outputs": [
        {
          "output_type": "stream",
          "name": "stdout",
          "text": [
            "[10, 39, [39, 32, 2]]\n"
          ]
        }
      ]
    },
    {
      "cell_type": "code",
      "source": [
        "print(li[-1:-3:]) # for negetive indexing we need must step"
      ],
      "metadata": {
        "colab": {
          "base_uri": "https://localhost:8080/"
        },
        "id": "P-7oCeSpdvNt",
        "outputId": "30a65f24-7587-401f-f257-0422e01dffaa"
      },
      "execution_count": null,
      "outputs": [
        {
          "output_type": "stream",
          "name": "stdout",
          "text": [
            "[]\n"
          ]
        }
      ]
    },
    {
      "cell_type": "code",
      "source": [
        "print(li[-1:-(len(li)+1):-1])"
      ],
      "metadata": {
        "colab": {
          "base_uri": "https://localhost:8080/"
        },
        "id": "BVUSd3DOensw",
        "outputId": "ebe49901-62f2-4b2e-fb12-a8ecbedc5a46"
      },
      "execution_count": null,
      "outputs": [
        {
          "output_type": "stream",
          "name": "stdout",
          "text": [
            "[(10, 20, 30), 'def', 'abc', [39, 32, 2], 59, 39, 29, 10]\n"
          ]
        }
      ]
    },
    {
      "cell_type": "code",
      "source": [
        "print(li[-1::-1])"
      ],
      "metadata": {
        "colab": {
          "base_uri": "https://localhost:8080/"
        },
        "id": "GQDT8yZJe-6A",
        "outputId": "c7b506e3-3a6a-440a-9b46-e6f315641d6d"
      },
      "execution_count": null,
      "outputs": [
        {
          "output_type": "stream",
          "name": "stdout",
          "text": [
            "[(10, 20, 30), 'def', 'abc', [39, 32, 2], 59, 39, 29, 10]\n"
          ]
        }
      ]
    },
    {
      "cell_type": "code",
      "source": [
        "print(li[::-1])"
      ],
      "metadata": {
        "colab": {
          "base_uri": "https://localhost:8080/"
        },
        "id": "PvDM44JEixem",
        "outputId": "0a7e75ff-d3f2-4e5c-8d88-559828ed7cbe"
      },
      "execution_count": null,
      "outputs": [
        {
          "output_type": "stream",
          "name": "stdout",
          "text": [
            "[(10, 20, 30), 'def', 'abc', [39, 32, 2], 59, 39, 29, 10]\n"
          ]
        }
      ]
    },
    {
      "cell_type": "code",
      "source": [
        "a = \"HelloWorld!\"\n",
        "a = list(a)\n",
        "\n",
        "print(a)"
      ],
      "metadata": {
        "colab": {
          "base_uri": "https://localhost:8080/"
        },
        "id": "JaRdR6YqfEWx",
        "outputId": "27b62a06-aa6a-4b0d-ed0b-adaacf745ab2"
      },
      "execution_count": null,
      "outputs": [
        {
          "output_type": "stream",
          "name": "stdout",
          "text": [
            "['H', 'e', 'l', 'l', 'o', 'W', 'o', 'r', 'l', 'd', '!']\n"
          ]
        }
      ]
    },
    {
      "cell_type": "code",
      "source": [
        "print(a.count('o'))"
      ],
      "metadata": {
        "colab": {
          "base_uri": "https://localhost:8080/"
        },
        "id": "2Qk2wIy_iwLg",
        "outputId": "396bab31-a82a-4a5f-f119-64e8fe939215"
      },
      "execution_count": null,
      "outputs": [
        {
          "output_type": "stream",
          "name": "stdout",
          "text": [
            "2\n"
          ]
        }
      ]
    },
    {
      "cell_type": "code",
      "source": [
        "a.pop()\n",
        "a"
      ],
      "metadata": {
        "colab": {
          "base_uri": "https://localhost:8080/"
        },
        "id": "BBuJET_rjeP9",
        "outputId": "7d21137e-a248-4ac4-8f52-504011862d33"
      },
      "execution_count": null,
      "outputs": [
        {
          "output_type": "execute_result",
          "data": {
            "text/plain": [
              "['H', 'e', 'l', 'l', 'o', 'W', 'o', 'r', 'l']"
            ]
          },
          "metadata": {},
          "execution_count": 6
        }
      ]
    },
    {
      "cell_type": "code",
      "source": [
        "a.append(\"Hello\")\n",
        "a"
      ],
      "metadata": {
        "colab": {
          "base_uri": "https://localhost:8080/"
        },
        "id": "CDzMyxrSjknR",
        "outputId": "84cdaaa9-5e28-4741-d5f0-746237915e1e"
      },
      "execution_count": null,
      "outputs": [
        {
          "output_type": "execute_result",
          "data": {
            "text/plain": [
              "['H', 'e', 'l', 'l', 'o', 'W', 'o', 'r', 'l', 'Hello']"
            ]
          },
          "metadata": {},
          "execution_count": 18
        }
      ]
    },
    {
      "cell_type": "code",
      "source": [
        "a.insert(0,45)"
      ],
      "metadata": {
        "id": "VqpACTWqkIhV"
      },
      "execution_count": null,
      "outputs": []
    },
    {
      "cell_type": "code",
      "source": [
        "a"
      ],
      "metadata": {
        "colab": {
          "base_uri": "https://localhost:8080/"
        },
        "id": "MWUyNK2lkXW2",
        "outputId": "93b565b2-38e8-408e-e687-10e71c991de4"
      },
      "execution_count": null,
      "outputs": [
        {
          "output_type": "execute_result",
          "data": {
            "text/plain": [
              "[45, 'H', 'e', 'l', 'l', 'o', 'W', 'o', 'r', 'l', 'Hello']"
            ]
          },
          "metadata": {},
          "execution_count": 20
        }
      ]
    },
    {
      "cell_type": "code",
      "source": [
        "a.extend(['a','b','c'])"
      ],
      "metadata": {
        "id": "brbrguLBkZJQ"
      },
      "execution_count": null,
      "outputs": []
    },
    {
      "cell_type": "code",
      "source": [
        "a"
      ],
      "metadata": {
        "colab": {
          "base_uri": "https://localhost:8080/"
        },
        "id": "Ecawmc-XkoWW",
        "outputId": "2a7721db-2bb2-4e55-d606-fa6e8ba9087f"
      },
      "execution_count": null,
      "outputs": [
        {
          "output_type": "execute_result",
          "data": {
            "text/plain": [
              "[45, 'H', 'e', 'l', 'l', 'o', 'W', 'o', 'r', 'l', 'Hello', 'a', 'b', 'c']"
            ]
          },
          "metadata": {},
          "execution_count": 41
        }
      ]
    },
    {
      "cell_type": "code",
      "source": [
        "nested_list = [[1, 2, 3], [4, 5], [6, 7, 8]]\n",
        "flat_list = [item for sublist in nested_list for item in sublist]\n",
        "print(flat_list)"
      ],
      "metadata": {
        "colab": {
          "base_uri": "https://localhost:8080/"
        },
        "id": "rH6azmFJlTKE",
        "outputId": "ce95d5f4-9f80-4201-b1f6-3efb4497115c"
      },
      "execution_count": null,
      "outputs": [
        {
          "output_type": "stream",
          "name": "stdout",
          "text": [
            "[1, 2, 3, 4, 5, 6, 7, 8]\n"
          ]
        }
      ]
    },
    {
      "cell_type": "code",
      "source": [
        "a = input().split()\n",
        "print(a)"
      ],
      "metadata": {
        "colab": {
          "base_uri": "https://localhost:8080/"
        },
        "id": "0hFkyztBn6yr",
        "outputId": "3c10e24f-776f-4f7a-cf3d-34c2ead6b25e"
      },
      "execution_count": null,
      "outputs": [
        {
          "output_type": "stream",
          "name": "stdout",
          "text": [
            "hello world bangladesh\n",
            "['hello', 'world', 'bangladesh']\n"
          ]
        }
      ]
    },
    {
      "cell_type": "code",
      "source": [
        "a = list(map(int, input().split()))\n",
        "a"
      ],
      "metadata": {
        "colab": {
          "base_uri": "https://localhost:8080/"
        },
        "id": "4y2ej__aoR6B",
        "outputId": "8195e1b9-f30f-43ba-a3ae-276f4c1ad822"
      },
      "execution_count": null,
      "outputs": [
        {
          "name": "stdout",
          "output_type": "stream",
          "text": [
            "1 2 3 4 5 6 \n"
          ]
        },
        {
          "output_type": "execute_result",
          "data": {
            "text/plain": [
              "[1, 2, 3, 4, 5, 6]"
            ]
          },
          "metadata": {},
          "execution_count": 52
        }
      ]
    },
    {
      "cell_type": "code",
      "source": [
        "a = list(map(float, input().split()))\n",
        "a"
      ],
      "metadata": {
        "colab": {
          "base_uri": "https://localhost:8080/"
        },
        "id": "pEM-Pljmo7Hb",
        "outputId": "d2df095f-34fb-47ce-d65e-ec1063e303a8"
      },
      "execution_count": null,
      "outputs": [
        {
          "name": "stdout",
          "output_type": "stream",
          "text": [
            "5.2 6.7 8.9 5.3\n"
          ]
        },
        {
          "output_type": "execute_result",
          "data": {
            "text/plain": [
              "[5.2, 6.7, 8.9, 5.3]"
            ]
          },
          "metadata": {},
          "execution_count": 53
        }
      ]
    },
    {
      "cell_type": "code",
      "source": [
        "number = [1,2,3,4,5]\n",
        "\n",
        "number = [n*5 for n in number]\n",
        "number"
      ],
      "metadata": {
        "colab": {
          "base_uri": "https://localhost:8080/"
        },
        "id": "dGzJmIr2sZWz",
        "outputId": "779767c7-5380-4ac5-836f-bc1c0a123408"
      },
      "execution_count": null,
      "outputs": [
        {
          "output_type": "execute_result",
          "data": {
            "text/plain": [
              "[5, 10, 15, 20, 25]"
            ]
          },
          "metadata": {},
          "execution_count": 54
        }
      ]
    },
    {
      "cell_type": "code",
      "source": [
        "character = [l for l in \"Hello world\"]\n",
        "character"
      ],
      "metadata": {
        "colab": {
          "base_uri": "https://localhost:8080/"
        },
        "id": "W80TM3e8tYbX",
        "outputId": "6c918ab4-baaf-47a0-f0e2-185816a494a3"
      },
      "execution_count": null,
      "outputs": [
        {
          "output_type": "execute_result",
          "data": {
            "text/plain": [
              "['H', 'e', 'l', 'l', 'o', ' ', 'w', 'o', 'r', 'l', 'd']"
            ]
          },
          "metadata": {},
          "execution_count": 55
        }
      ]
    },
    {
      "cell_type": "code",
      "source": [
        "number = [x for x in range(1,21) if x%3==0]\n",
        "number"
      ],
      "metadata": {
        "colab": {
          "base_uri": "https://localhost:8080/"
        },
        "id": "c4i-dE8Stlpe",
        "outputId": "89cbffd4-bc02-44ab-c20c-15782aa40727"
      },
      "execution_count": null,
      "outputs": [
        {
          "output_type": "execute_result",
          "data": {
            "text/plain": [
              "[3, 6, 9, 12, 15, 18]"
            ]
          },
          "metadata": {},
          "execution_count": 59
        }
      ]
    },
    {
      "cell_type": "code",
      "source": [
        "number = [x for x in range(1,100) if x%3==0 and x%5==0]\n",
        "number"
      ],
      "metadata": {
        "colab": {
          "base_uri": "https://localhost:8080/"
        },
        "id": "mJvi_MhtyM7W",
        "outputId": "1168f6f2-236f-4e26-c347-10a669a50613"
      },
      "execution_count": null,
      "outputs": [
        {
          "output_type": "execute_result",
          "data": {
            "text/plain": [
              "[15, 30, 45, 60, 75, 90]"
            ]
          },
          "metadata": {},
          "execution_count": 61
        }
      ]
    },
    {
      "cell_type": "code",
      "source": [
        "number = [x for x in range(1,100) if x%3==0 or x%5==0]\n",
        "number"
      ],
      "metadata": {
        "colab": {
          "base_uri": "https://localhost:8080/"
        },
        "id": "h25iJ5vsypTe",
        "outputId": "950cc2dc-5ff5-44fb-fa50-9e46fc7c2b3d"
      },
      "execution_count": null,
      "outputs": [
        {
          "output_type": "execute_result",
          "data": {
            "text/plain": [
              "[3,\n",
              " 5,\n",
              " 6,\n",
              " 9,\n",
              " 10,\n",
              " 12,\n",
              " 15,\n",
              " 18,\n",
              " 20,\n",
              " 21,\n",
              " 24,\n",
              " 25,\n",
              " 27,\n",
              " 30,\n",
              " 33,\n",
              " 35,\n",
              " 36,\n",
              " 39,\n",
              " 40,\n",
              " 42,\n",
              " 45,\n",
              " 48,\n",
              " 50,\n",
              " 51,\n",
              " 54,\n",
              " 55,\n",
              " 57,\n",
              " 60,\n",
              " 63,\n",
              " 65,\n",
              " 66,\n",
              " 69,\n",
              " 70,\n",
              " 72,\n",
              " 75,\n",
              " 78,\n",
              " 80,\n",
              " 81,\n",
              " 84,\n",
              " 85,\n",
              " 87,\n",
              " 90,\n",
              " 93,\n",
              " 95,\n",
              " 96,\n",
              " 99]"
            ]
          },
          "metadata": {},
          "execution_count": 62
        }
      ]
    },
    {
      "cell_type": "code",
      "source": [
        "number = [f\"{x} is Even\" if x%2==0 else f\"{x} is Odd\" for x in range(1,11)]\n",
        "number"
      ],
      "metadata": {
        "colab": {
          "base_uri": "https://localhost:8080/"
        },
        "id": "aPRru05tyz70",
        "outputId": "c87a045e-8210-47af-df55-2648f9377166"
      },
      "execution_count": null,
      "outputs": [
        {
          "output_type": "execute_result",
          "data": {
            "text/plain": [
              "['1 is Odd',\n",
              " '2 is Even',\n",
              " '3 is Odd',\n",
              " '4 is Even',\n",
              " '5 is Odd',\n",
              " '6 is Even',\n",
              " '7 is Odd',\n",
              " '8 is Even',\n",
              " '9 is Odd',\n",
              " '10 is Even']"
            ]
          },
          "metadata": {},
          "execution_count": 65
        }
      ]
    },
    {
      "cell_type": "code",
      "source": [
        "matrix = [[1,2],[3,4],[5,6],[7,8]]\n",
        "a = []\n",
        "for i in range(2):\n",
        "  b = []\n",
        "  for col in matrix:\n",
        "    b.append(col[i])\n",
        "  a.append(b)\n",
        "a"
      ],
      "metadata": {
        "colab": {
          "base_uri": "https://localhost:8080/"
        },
        "id": "mMqk8I8A7jKc",
        "outputId": "4f7b864e-a84c-464e-e608-b03480aa7c73"
      },
      "execution_count": null,
      "outputs": [
        {
          "output_type": "execute_result",
          "data": {
            "text/plain": [
              "[[1, 3, 5, 7], [2, 4, 6, 8]]"
            ]
          },
          "metadata": {},
          "execution_count": 19
        }
      ]
    },
    {
      "cell_type": "code",
      "source": [
        "matrix = [[1,2],[3,4],[5,6],[7,8],[9,10]]\n",
        "a = []\n",
        "\n",
        "for i in range(len(matrix[0])):\n",
        "  b = []\n",
        "  for col in matrix:\n",
        "    b.append(col[i])\n",
        "  a.append(b)\n",
        "a"
      ],
      "metadata": {
        "colab": {
          "base_uri": "https://localhost:8080/"
        },
        "id": "SVtuGlh6IhiQ",
        "outputId": "be7a2053-3515-48f6-afa1-082caaa19dbf"
      },
      "execution_count": null,
      "outputs": [
        {
          "output_type": "execute_result",
          "data": {
            "text/plain": [
              "[[1, 3, 5, 7, 9], [2, 4, 6, 8, 10]]"
            ]
          },
          "metadata": {},
          "execution_count": 25
        }
      ]
    },
    {
      "cell_type": "code",
      "source": [
        "matrix = [[1,2],[3,4],[5,6],[7,8],[9,10]]\n",
        "\n",
        "t_matrix = [[col[i] for col in matrix] for i in range(2)]\n",
        "t_matrix"
      ],
      "metadata": {
        "colab": {
          "base_uri": "https://localhost:8080/"
        },
        "id": "CZ2DGMpRK5mU",
        "outputId": "2093af19-956b-45d6-d48c-bef9c8720fed"
      },
      "execution_count": null,
      "outputs": [
        {
          "output_type": "execute_result",
          "data": {
            "text/plain": [
              "[[1, 3, 5, 7, 9], [2, 4, 6, 8, 10]]"
            ]
          },
          "metadata": {},
          "execution_count": 28
        }
      ]
    },
    {
      "cell_type": "code",
      "source": [
        "matrix = [[1,2],[3,4],[5,6],[7,8],[9,10]]\n",
        "\n",
        "t_matrix = [[col[i] for col in matrix if col[i]%3!=0] for i in range(2)]\n",
        "t_matrix"
      ],
      "metadata": {
        "colab": {
          "base_uri": "https://localhost:8080/"
        },
        "id": "rqMa9ITdLliW",
        "outputId": "cdcd2806-6e1b-406a-c9e5-723c237df18f"
      },
      "execution_count": null,
      "outputs": [
        {
          "output_type": "execute_result",
          "data": {
            "text/plain": [
              "[[1, 5, 7], [2, 4, 8, 10]]"
            ]
          },
          "metadata": {},
          "execution_count": 30
        }
      ]
    },
    {
      "cell_type": "code",
      "source": [
        "items = [4,6,4,3,3,4,3,4,3,4]\n",
        "\n",
        "new_list = []\n",
        "for item in items:\n",
        "  if items.count(item) > 3 and item not in new_list:\n",
        "    new_list.append(item)\n",
        "\n",
        "print(new_list)\n"
      ],
      "metadata": {
        "colab": {
          "base_uri": "https://localhost:8080/"
        },
        "id": "s0bu3rFjWDU9",
        "outputId": "eebbd926-11c6-42cf-9773-82f9fba1ab90"
      },
      "execution_count": null,
      "outputs": [
        {
          "output_type": "stream",
          "name": "stdout",
          "text": [
            "[4, 3]\n"
          ]
        }
      ]
    },
    {
      "cell_type": "code",
      "source": [
        "#[[1, 2, 3, 4], [0, 2, 3, 4], [0, 1, 3, 4], [0, 1, 2, 4], [0, 1, 2, 3]]\n",
        "\n",
        "nested_list = [[j for j in range(5) if i!=j] for i in range(5)]\n",
        "print(nested_list)"
      ],
      "metadata": {
        "colab": {
          "base_uri": "https://localhost:8080/"
        },
        "id": "EwnA1c-oZ6RA",
        "outputId": "dce2775a-f3e6-48e3-dcc5-d8cc736dad0a"
      },
      "execution_count": null,
      "outputs": [
        {
          "output_type": "stream",
          "name": "stdout",
          "text": [
            "[[1, 2, 3, 4], [0, 2, 3, 4], [0, 1, 3, 4], [0, 1, 2, 4], [0, 1, 2, 3]]\n"
          ]
        }
      ]
    },
    {
      "cell_type": "code",
      "source": [
        "s= [0, \"Hello\", [], None, [1]]\n",
        "print([bool(x) for x in s])"
      ],
      "metadata": {
        "colab": {
          "base_uri": "https://localhost:8080/"
        },
        "id": "_eMGnL45Wklt",
        "outputId": "fc302463-18f1-406f-f2f1-410a5a23fa5c"
      },
      "execution_count": null,
      "outputs": [
        {
          "output_type": "stream",
          "name": "stdout",
          "text": [
            "[False, True, False, False, True]\n"
          ]
        }
      ]
    },
    {
      "cell_type": "code",
      "source": [
        "tpl = (1, 2, 3, [4, 5])\n",
        "tpl[3].append(6)\n",
        "print(tpl)"
      ],
      "metadata": {
        "colab": {
          "base_uri": "https://localhost:8080/"
        },
        "id": "Hw_rs9RAXrQa",
        "outputId": "c591c63b-56bd-444d-87ca-eb0c49bac039"
      },
      "execution_count": null,
      "outputs": [
        {
          "output_type": "stream",
          "name": "stdout",
          "text": [
            "(1, 2, 3, [4, 5, 6])\n"
          ]
        }
      ]
    },
    {
      "cell_type": "code",
      "source": [
        "st = {1, 2, 2, 3, 'A'}\n",
        "print(st)"
      ],
      "metadata": {
        "colab": {
          "base_uri": "https://localhost:8080/"
        },
        "id": "u1OGMRfeYJLu",
        "outputId": "01c13740-336e-41dd-cce5-e936d8627d81"
      },
      "execution_count": null,
      "outputs": [
        {
          "output_type": "stream",
          "name": "stdout",
          "text": [
            "{1, 2, 3, 'A'}\n"
          ]
        }
      ]
    },
    {
      "cell_type": "code",
      "source": [
        "st = {1, 2, 2, 3, 'A'}\n",
        "print(st)\n"
      ],
      "metadata": {
        "colab": {
          "base_uri": "https://localhost:8080/"
        },
        "id": "b8C_0PO0YTZ6",
        "outputId": "9bc45289-fc55-4475-cd86-62047af3ceb4"
      },
      "execution_count": null,
      "outputs": [
        {
          "output_type": "stream",
          "name": "stdout",
          "text": [
            "{1, 2, 3, 'A'}\n"
          ]
        }
      ]
    },
    {
      "cell_type": "code",
      "source": [
        "tpl = (1, 2, 3, [4, 5])\n",
        "tpl[3].append(6)\n",
        "print(tpl)\n"
      ],
      "metadata": {
        "id": "mdmhTx7VCvrq",
        "outputId": "9c2dab49-fc01-4ab4-97a9-93abd659b97e",
        "colab": {
          "base_uri": "https://localhost:8080/"
        }
      },
      "execution_count": null,
      "outputs": [
        {
          "output_type": "stream",
          "name": "stdout",
          "text": [
            "(1, 2, 3, [4, 5, 6])\n"
          ]
        }
      ]
    },
    {
      "cell_type": "code",
      "source": [
        "x = 5\n",
        "y = \"5\"\n",
        "print(type(x), type(y))\n"
      ],
      "metadata": {
        "id": "TJUUDRvNCvf-",
        "colab": {
          "base_uri": "https://localhost:8080/"
        },
        "outputId": "c9d5cdea-cf97-46a6-dadb-41a42d9aff0d"
      },
      "execution_count": null,
      "outputs": [
        {
          "output_type": "stream",
          "name": "stdout",
          "text": [
            "<class 'int'> <class 'str'>\n"
          ]
        }
      ]
    },
    {
      "cell_type": "code",
      "source": [
        "print(7 / 2)\n",
        "\n",
        "print(type(5.))"
      ],
      "metadata": {
        "colab": {
          "base_uri": "https://localhost:8080/"
        },
        "id": "4ErtSh_PJiFa",
        "outputId": "53067a16-09ea-4739-da34-3926d53915f5"
      },
      "execution_count": null,
      "outputs": [
        {
          "output_type": "stream",
          "name": "stdout",
          "text": [
            "3.5\n",
            "<class 'float'>\n"
          ]
        }
      ]
    },
    {
      "cell_type": "code",
      "source": [
        "num = float(input())\n",
        "print(type(num))\n"
      ],
      "metadata": {
        "colab": {
          "base_uri": "https://localhost:8080/"
        },
        "id": "4RYEvBSGNylr",
        "outputId": "79e88afe-13bd-4f28-e0f2-cd667dfa742c"
      },
      "execution_count": null,
      "outputs": [
        {
          "output_type": "stream",
          "name": "stdout",
          "text": [
            "7\n",
            "<class 'float'>\n"
          ]
        }
      ]
    },
    {
      "cell_type": "markdown",
      "source": [
        "In Python, **operator precedence** determines the order in which operations are evaluated.\n",
        "Here’s the precedence (from highest to lowest) among the given operators:\n",
        "\n",
        "1. **not** → highest\n",
        "2. **==**\n",
        "3. **and**\n",
        "4. **or** → lowest\n",
        "\n",
        "So, the order is:\n",
        "\n",
        "```\n",
        "not  >  ==  >  and  >  or\n",
        "```\n"
      ],
      "metadata": {
        "id": "vHindv1bSQeJ"
      }
    },
    {
      "cell_type": "markdown",
      "source": [
        "**Operator precedence** works among\n",
        "`not`, `==`, `and`, and `or` in Python\n",
        "\n",
        "### 🔹 Example 1: `not` vs `and`\n",
        "\n",
        "```python\n",
        "x = True\n",
        "y = False\n",
        "\n",
        "print(not x and y)\n",
        "```\n",
        "\n",
        "**Step-by-step:**\n",
        "\n",
        "* `not` has higher precedence than `and`\n",
        "* So it becomes: `(not x) and y` → `False and False` → **False**\n",
        "\n",
        "✅ **Output:** `False`\n",
        "\n",
        "\n",
        "### 🔹 Example 2: `and` vs `or`\n",
        "\n",
        "```python\n",
        "a = True\n",
        "b = False\n",
        "c = True\n",
        "\n",
        "print(a or b and c)\n",
        "```\n",
        "\n",
        "**Step-by-step:**\n",
        "\n",
        "* `and` has higher precedence than `or`\n",
        "* So it becomes: `a or (b and c)` → `a or False` → **True**\n",
        "\n",
        "✅ **Output:** `True`\n",
        "\n",
        "### 🔹 Example 3: `not` vs `==`\n",
        "\n",
        "```python\n",
        "x = True\n",
        "y = False\n",
        "\n",
        "print(not x == y)\n",
        "```\n",
        "\n",
        "**Step-by-step:**\n",
        "\n",
        "* `not` has higher precedence than `==`\n",
        "* So it becomes: `(not x) == y` → `False == False` → **True**\n",
        "\n",
        "✅ **Output:** `True`\n",
        "\n",
        "### 🔹 Example 4: combining all\n",
        "\n",
        "```python\n",
        "print(not True or False and True == False)\n",
        "```\n",
        "\n",
        "**Operator precedence order:**\n",
        "\n",
        "1. `not`\n",
        "2. `==`\n",
        "3. `and`\n",
        "4. `or`\n",
        "\n",
        "**Step-by-step:**\n",
        "\n",
        "* `not True` → `False`\n",
        "* `True == False` → `False`\n",
        "* `False and False` → `False`\n",
        "* `False or False` → `False`\n",
        "\n",
        "✅ **Output:** `False`\n"
      ],
      "metadata": {
        "id": "qicLr8SPS3b_"
      }
    },
    {
      "cell_type": "code",
      "source": [
        "inp = input()\n",
        "inp = inp.split()\n",
        "inp = [int(x) for x in inp]\n",
        "\n",
        "min_n = min(inp)\n",
        "max_n = max(inp)\n",
        "\n",
        "print(min_n, max_n)"
      ],
      "metadata": {
        "colab": {
          "base_uri": "https://localhost:8080/"
        },
        "id": "nQzmVVQm5pMn",
        "outputId": "76577318-cb50-490d-a699-ccd5239342cb"
      },
      "execution_count": null,
      "outputs": [
        {
          "output_type": "stream",
          "name": "stdout",
          "text": [
            "1 2 3\n",
            "1 3\n"
          ]
        }
      ]
    },
    {
      "cell_type": "code",
      "source": [
        "no_of_inp = int(input())\n",
        "inp = input().split()\n",
        "\n",
        "even_count = 0\n",
        "odd_count = 0\n",
        "postive_count = 0\n",
        "negateive_count = 0\n",
        "\n",
        "# Convert the input strings to integers\n",
        "inp = [int(x) for x in inp]\n",
        "\n",
        "\n",
        "for i in range(no_of_inp):\n",
        "  if inp[i] % 2 == 0:\n",
        "    even_count += 1\n",
        "  else:\n",
        "    odd_count += 1\n",
        "\n",
        "  if inp[i] > 0:\n",
        "    postive_count += 1\n",
        "  elif inp[i] < 0 :\n",
        "    negateive_count += 1\n",
        "\n",
        "print(\"Even:\", even_count)\n",
        "print(\"Odd:\", odd_count)\n",
        "print(\"Positive:\", postive_count)\n",
        "print(\"Negative:\", negateive_count)"
      ],
      "metadata": {
        "colab": {
          "base_uri": "https://localhost:8080/"
        },
        "id": "omX-3bTX7t_y",
        "outputId": "cfa0843e-6b14-4e6b-d47f-bfaf8e6f456a"
      },
      "execution_count": null,
      "outputs": [
        {
          "output_type": "stream",
          "name": "stdout",
          "text": [
            "5\n",
            "-5 0 -3 -4 12\n",
            "Even: 3\n",
            "Odd: 2\n",
            "Positive: 1\n",
            "Negative: 3\n"
          ]
        }
      ]
    },
    {
      "cell_type": "code",
      "source": [
        "no_of_inp = int(input())\n",
        "\n",
        "for i in range(no_of_inp):\n",
        "  inp = input()\n",
        "  inp = inp[::-1]\n",
        "\n",
        "  for c in inp:\n",
        "    print(c, end=\" \")\n",
        "\n",
        "  print()\n"
      ],
      "metadata": {
        "colab": {
          "base_uri": "https://localhost:8080/"
        },
        "id": "REwV2WgY7trl",
        "outputId": "9d6dc89f-1205-486e-d766-4a40aae101f2"
      },
      "execution_count": null,
      "outputs": [
        {
          "output_type": "stream",
          "name": "stdout",
          "text": [
            "2\n",
            "123\n",
            "3 2 1 \n",
            "1200\n",
            "0 0 2 1 \n"
          ]
        }
      ]
    },
    {
      "cell_type": "code",
      "source": [
        "x = 5\n",
        "\n",
        "if x > 3:\n",
        "  print(\"A\")\n",
        "elif x > 1:\n",
        "  print(\"B\")\n",
        "else:\n",
        "  print(\"Kichu e print korbena\")"
      ],
      "metadata": {
        "colab": {
          "base_uri": "https://localhost:8080/"
        },
        "id": "_Iiudbj1FIIK",
        "outputId": "52ddc158-fc68-4302-8ea1-1cc7827b4d3f"
      },
      "execution_count": null,
      "outputs": [
        {
          "output_type": "stream",
          "name": "stdout",
          "text": [
            "A\n"
          ]
        }
      ]
    },
    {
      "cell_type": "code",
      "source": [
        "s=0\n",
        "for i in range(1, 5):\n",
        "  if i%2 == 0:\n",
        "    s += 1\n",
        "  else:\n",
        "    s -= 1\n",
        "print(s)"
      ],
      "metadata": {
        "colab": {
          "base_uri": "https://localhost:8080/"
        },
        "id": "PveSQ4o1HFpF",
        "outputId": "8a67d3de-44d8-4197-eff5-491d3cb8a177"
      },
      "execution_count": null,
      "outputs": [
        {
          "output_type": "stream",
          "name": "stdout",
          "text": [
            "0\n"
          ]
        }
      ]
    },
    {
      "cell_type": "code",
      "source": [
        "count = 0\n",
        "for x in [1,2,3,4,5]:\n",
        "  if x % 2 != 0:\n",
        "    continue"
      ],
      "metadata": {
        "id": "e9dIub00IYV6"
      },
      "execution_count": null,
      "outputs": []
    },
    {
      "cell_type": "code",
      "source": [
        "w_weight = int(input())\n",
        "\n",
        "if w_weight % 2 == 0 and w_weight != 2:\n",
        "  print(\"YES\")\n",
        "else:\n",
        "  print(\"NO\")"
      ],
      "metadata": {
        "colab": {
          "base_uri": "https://localhost:8080/"
        },
        "id": "QDaWErQS3_K1",
        "outputId": "e8b25ceb-95c2-4d80-f12c-49cd5fab4c36"
      },
      "execution_count": null,
      "outputs": [
        {
          "output_type": "stream",
          "name": "stdout",
          "text": [
            "10\n",
            "YES\n"
          ]
        }
      ]
    },
    {
      "cell_type": "code",
      "source": [
        "no_of_inp = int(input())\n",
        "\n",
        "for i in range(no_of_inp):\n",
        "  inp = input()\n",
        "  inp_len = len(inp)\n",
        "  if inp_len <= 10:\n",
        "    print(inp)\n",
        "  else:\n",
        "    cal = inp_len-2\n",
        "    print(inp[0] + str(cal)+inp[-1])"
      ],
      "metadata": {
        "colab": {
          "base_uri": "https://localhost:8080/"
        },
        "id": "BQUPEWSX6J9X",
        "outputId": "96abba99-addb-455e-eb40-cd789db93750"
      },
      "execution_count": null,
      "outputs": [
        {
          "output_type": "stream",
          "name": "stdout",
          "text": [
            "4\n",
            "word\n",
            "word\n",
            "localization\n",
            "l10n\n",
            "internationalization\n",
            "i18n\n",
            "pneumonoultramicroscopicsilicovolcanoconiosis\n",
            "p43s\n"
          ]
        }
      ]
    },
    {
      "cell_type": "code",
      "source": [
        "no_of_inp = int(input())\n",
        "count = 0\n",
        "for i in range(no_of_inp):\n",
        "  inp = input().split()\n",
        "\n",
        "  if inp.count(\"1\") >= 2:\n",
        "    count +=1\n",
        "\n",
        "print(count)"
      ],
      "metadata": {
        "colab": {
          "base_uri": "https://localhost:8080/"
        },
        "id": "GikWwnU57gh3",
        "outputId": "89417618-9e6a-4ec5-dec3-91f431361dbb"
      },
      "execution_count": null,
      "outputs": [
        {
          "output_type": "stream",
          "name": "stdout",
          "text": [
            "2\n",
            "1 0 \n",
            "0 1 1\n",
            "1\n"
          ]
        }
      ]
    },
    {
      "cell_type": "code",
      "source": [
        "no_of_inp = int(input())\n",
        "count = 0\n",
        "\n",
        "for i in range(no_of_inp):\n",
        "  inp = input()\n",
        "\n",
        "  if  '++' in inp:\n",
        "    count +=1\n",
        "  else:\n",
        "    count -=1\n",
        "\n",
        "print(count)\n",
        "\n"
      ],
      "metadata": {
        "colab": {
          "base_uri": "https://localhost:8080/"
        },
        "id": "qWILezt7Q2v-",
        "outputId": "55f9a553-1f9b-48e1-a2df-76e9067c75f8"
      },
      "execution_count": null,
      "outputs": [
        {
          "output_type": "stream",
          "name": "stdout",
          "text": [
            "2\n",
            "X++\n",
            "--X\n",
            "0\n"
          ]
        }
      ]
    },
    {
      "cell_type": "code",
      "source": [
        "import math\n",
        "inp = [int (x) for x in input().split()]\n",
        "\n",
        "need_stone_for_cover_width = math.ceil(inp[0]/inp[2])\n",
        "need_stone_for_cover_length = math.ceil(inp[1]/inp[2])\n",
        "\n",
        "print(need_stone_for_cover_width*need_stone_for_cover_length)\n"
      ],
      "metadata": {
        "colab": {
          "base_uri": "https://localhost:8080/"
        },
        "id": "tyw1gmsQbpLG",
        "outputId": "d8c08e04-d978-4645-a4d9-3c518933668b"
      },
      "execution_count": null,
      "outputs": [
        {
          "output_type": "stream",
          "name": "stdout",
          "text": [
            "6 6 4\n",
            "4\n"
          ]
        }
      ]
    },
    {
      "cell_type": "code",
      "source": [
        "no_of_inp = list(map(int, input().split()))\n",
        "\n",
        "score_position = (no_of_inp[1])-1\n",
        "number_of_players = no_of_inp[0]\n",
        "inp = list(map(int, input().split()))\n",
        "\n",
        "score = inp[score_position]\n",
        "count_qualified_player  = 0\n",
        "\n",
        "for i in range(number_of_players):\n",
        "  if inp[i] >= score and inp[i] > 0:\n",
        "    count_qualified_player +=1\n",
        "\n",
        "print(count_qualified_player)\n"
      ],
      "metadata": {
        "colab": {
          "base_uri": "https://localhost:8080/"
        },
        "id": "SyPT-ZTeeYM5",
        "outputId": "a9cc655e-5929-41ff-a3aa-45513bb99e3c"
      },
      "execution_count": null,
      "outputs": [
        {
          "output_type": "stream",
          "name": "stdout",
          "text": [
            "5 5\n",
            "3 2 1 0 0\n",
            "3\n"
          ]
        }
      ]
    },
    {
      "cell_type": "code",
      "source": [
        "import math\n",
        "inp = list(map(int, input().split()))\n",
        "\n",
        "area_of_domino = inp[0] * inp[1]\n",
        "print(math.floor(area_of_domino/2))"
      ],
      "metadata": {
        "colab": {
          "base_uri": "https://localhost:8080/"
        },
        "id": "H0h8vFCyEtJj",
        "outputId": "5a23ae6c-6e41-451b-edb5-ee3bf61245ff"
      },
      "execution_count": null,
      "outputs": [
        {
          "output_type": "stream",
          "name": "stdout",
          "text": [
            "3 3\n",
            "4\n"
          ]
        }
      ]
    },
    {
      "cell_type": "code",
      "source": [
        "matrix_input = list(map(int, input().split()))\n",
        "\n",
        "matrix = []\n",
        "matrix_index = 0\n",
        "\n",
        "track_i = -1\n",
        "track_j = -1\n",
        "\n",
        "for i in range(0,5):\n",
        "  row = []\n",
        "  for j in range(0,5):\n",
        "    row.append(matrix_input[matrix_index])\n",
        "    if matrix_input[matrix_index] == 1:\n",
        "      track_i = i\n",
        "      track_j = j\n",
        "    matrix_index += 1\n",
        "  matrix.append(row)\n",
        "\n",
        "print(abs(2-track_i) + abs(2-track_j))\n",
        "\n"
      ],
      "metadata": {
        "colab": {
          "base_uri": "https://localhost:8080/"
        },
        "id": "Jrq2U0FtH4dn",
        "outputId": "f94a0bf1-cdba-4559-cff6-4ec01f8ace33"
      },
      "execution_count": null,
      "outputs": [
        {
          "output_type": "stream",
          "name": "stdout",
          "text": [
            "0 0 0 0 0 0 0 0 0 0 0 1 0 0 0 0 0 0 0 0 0 0 0 0 00 0 0 0 0 0 0 0 0 0 0 1 0 0 0 0 0 0 0 0 0 0 0 0 0\n",
            "1\n"
          ]
        }
      ]
    },
    {
      "cell_type": "code",
      "source": [
        "word1 = input().lower()\n",
        "word2 = input().lower()\n",
        "\n",
        "if word1 > word2:\n",
        "  print(1)\n",
        "elif word1 < word2:\n",
        "  print(-1)\n",
        "else:\n",
        "  print(0)"
      ],
      "metadata": {
        "id": "x2gEmIv8f5wN",
        "colab": {
          "base_uri": "https://localhost:8080/"
        },
        "outputId": "2d707ef5-fd2e-4293-eb11-7e0531dbf337"
      },
      "execution_count": null,
      "outputs": [
        {
          "output_type": "stream",
          "name": "stdout",
          "text": [
            "abcdefg\n",
            "AbCdEfF\n",
            "1\n"
          ]
        }
      ]
    },
    {
      "cell_type": "code",
      "source": [
        "tree_collected_fruits = list(map(int, input().split()))\n",
        "\n",
        "fruits_input_per_tree = list(map(int, input().split()))\n",
        "fruits_input_per_tree.sort(reverse=True)\n",
        "\n",
        "toatal_tree = tree_collected_fruits[0]\n",
        "total_fruits = tree_collected_fruits[1]\n",
        "\n",
        "tree_count = toatl_fruit = 0\n",
        "success = 0\n",
        "for i in range(toatal_tree):\n",
        "  toatl_fruit += fruits_input_per_tree[i]\n",
        "  tree_count += 1\n",
        "  if toatl_fruit >= total_fruits:\n",
        "    success = 1\n",
        "    break\n",
        "\n",
        "if success != 1:\n",
        "  print(\"Shombhob na\")\n",
        "else:\n",
        "  print(tree_count)"
      ],
      "metadata": {
        "colab": {
          "base_uri": "https://localhost:8080/"
        },
        "id": "cHJ3C6ZczUo2",
        "outputId": "7e721b0d-4b49-47b8-80c6-8f09feafcd7f"
      },
      "execution_count": null,
      "outputs": [
        {
          "output_type": "stream",
          "name": "stdout",
          "text": [
            "4 15\n",
            "1 1 2 14\n",
            "2\n"
          ]
        }
      ]
    },
    {
      "cell_type": "code",
      "source": [
        "no_inp = int(input())\n",
        "inp = list(input().split())\n",
        "max = 0\n",
        "\n",
        "for i in range(no_inp):\n",
        "  highest_duplicate = inp.count(inp[i])\n",
        "  if highest_duplicate > max:\n",
        "    max = highest_duplicate\n",
        "\n",
        "print(max)"
      ],
      "metadata": {
        "colab": {
          "base_uri": "https://localhost:8080/"
        },
        "id": "UxokMDFJGxtb",
        "outputId": "6ef21ac7-2fa8-4234-de87-a0d2b8eab42c"
      },
      "execution_count": null,
      "outputs": [
        {
          "output_type": "stream",
          "name": "stdout",
          "text": [
            "5\n",
            "2 2 5 5 6\n",
            "2\n"
          ]
        }
      ]
    },
    {
      "cell_type": "code",
      "source": [
        "word = \"Pythonista\"\n",
        "print(word[-4])"
      ],
      "metadata": {
        "colab": {
          "base_uri": "https://localhost:8080/"
        },
        "id": "7Sb22Eovjhr7",
        "outputId": "a9efc2d9-5ba4-470c-bcc9-5f48f2b3fd96"
      },
      "execution_count": null,
      "outputs": [
        {
          "output_type": "stream",
          "name": "stdout",
          "text": [
            "i\n"
          ]
        }
      ]
    },
    {
      "cell_type": "code",
      "source": [
        "word = \"HelloWorld\"\n",
        "print(word[2:8:2])"
      ],
      "metadata": {
        "colab": {
          "base_uri": "https://localhost:8080/"
        },
        "id": "gzLvEI0jj-Qj",
        "outputId": "88dfa8b6-0bb5-4f2e-eb66-fe855daa85e4"
      },
      "execution_count": null,
      "outputs": [
        {
          "output_type": "stream",
          "name": "stdout",
          "text": [
            "loo\n"
          ]
        }
      ]
    },
    {
      "cell_type": "code",
      "source": [
        "word = \"banana bandana\"\n",
        "print(word.count(\"ana\"))"
      ],
      "metadata": {
        "colab": {
          "base_uri": "https://localhost:8080/"
        },
        "id": "M76uatK8kR7b",
        "outputId": "020e3cb7-b4b7-4726-98dc-226053828bc3"
      },
      "execution_count": null,
      "outputs": [
        {
          "output_type": "stream",
          "name": "stdout",
          "text": [
            "2\n"
          ]
        }
      ]
    },
    {
      "cell_type": "code",
      "source": [
        "word = \"banana bandana\"\n",
        "print(word.count(\"ana\"))"
      ],
      "metadata": {
        "colab": {
          "base_uri": "https://localhost:8080/"
        },
        "id": "4QBvVIHolPmR",
        "outputId": "6f1db166-c52c-4b89-dbc9-55e21ef6a2e1"
      },
      "execution_count": null,
      "outputs": [
        {
          "output_type": "stream",
          "name": "stdout",
          "text": [
            "2\n"
          ]
        }
      ]
    },
    {
      "cell_type": "code",
      "source": [
        "msg = \"red,green,blue\"\n",
        "print(\"-\".join(msg.split(\",\")[::-1]))"
      ],
      "metadata": {
        "colab": {
          "base_uri": "https://localhost:8080/"
        },
        "id": "_QsFITpPl7iD",
        "outputId": "1d518f55-c2ff-402c-fd24-b1cfb8d7e79e"
      },
      "execution_count": null,
      "outputs": [
        {
          "output_type": "stream",
          "name": "stdout",
          "text": [
            "blue-green-red\n"
          ]
        }
      ]
    },
    {
      "cell_type": "code",
      "source": [
        "num = [2,4,6,8,10]\n",
        "num[2] = num[2] * num[0]\n",
        "print(num)"
      ],
      "metadata": {
        "colab": {
          "base_uri": "https://localhost:8080/"
        },
        "id": "a29-tRcznM76",
        "outputId": "b460d5c3-3ec1-4a85-81d9-f96b1e6a07b6"
      },
      "execution_count": null,
      "outputs": [
        {
          "output_type": "stream",
          "name": "stdout",
          "text": [
            "[2, 4, 12, 8, 10]\n"
          ]
        }
      ]
    },
    {
      "cell_type": "code",
      "source": [
        "letter = ['a','b','c','d','e']\n",
        "print(letter[1:4][::-2])"
      ],
      "metadata": {
        "colab": {
          "base_uri": "https://localhost:8080/"
        },
        "id": "XwUFTXhlnsgT",
        "outputId": "79f8a243-d48e-405d-91ed-b115285c0073"
      },
      "execution_count": null,
      "outputs": [
        {
          "output_type": "stream",
          "name": "stdout",
          "text": [
            "['d', 'b']\n"
          ]
        }
      ]
    },
    {
      "cell_type": "code",
      "source": [
        "stack = []\n",
        "\n",
        "for i in range(1,4):\n",
        "  stack.append(i)\n",
        "\n",
        "stack.pop()\n",
        "print(stack[-1])"
      ],
      "metadata": {
        "colab": {
          "base_uri": "https://localhost:8080/"
        },
        "id": "CTv5pD2toBbE",
        "outputId": "77b5c102-f410-430d-ea98-45871845ded1"
      },
      "execution_count": null,
      "outputs": [
        {
          "output_type": "stream",
          "name": "stdout",
          "text": [
            "2\n"
          ]
        }
      ]
    },
    {
      "cell_type": "code",
      "source": [
        "quee = [10,20,30,40]\n",
        "quee.pop(1)\n",
        "quee.append(50)\n",
        "quee.pop(0)\n",
        "print(quee[0])"
      ],
      "metadata": {
        "colab": {
          "base_uri": "https://localhost:8080/"
        },
        "id": "zpiHfmHwoWv3",
        "outputId": "631b34dd-b3a3-4639-aefa-54db5d09f739"
      },
      "execution_count": null,
      "outputs": [
        {
          "output_type": "stream",
          "name": "stdout",
          "text": [
            "30\n"
          ]
        }
      ]
    },
    {
      "cell_type": "code",
      "source": [
        "number = [1,2,3,4]\n",
        "\n",
        "square = [x**2 for x in number if x%2==0]\n",
        "print(square)"
      ],
      "metadata": {
        "colab": {
          "base_uri": "https://localhost:8080/"
        },
        "id": "CSjgNfgNozr5",
        "outputId": "dd302801-4946-4a5a-e709-9992c2ec1ff4"
      },
      "execution_count": null,
      "outputs": [
        {
          "output_type": "stream",
          "name": "stdout",
          "text": [
            "[4, 16]\n"
          ]
        }
      ]
    },
    {
      "cell_type": "code",
      "source": [
        "x = [1,2,3,2,4]\n",
        "x.remove(4)\n",
        "x.pop()\n",
        "print(x)"
      ],
      "metadata": {
        "colab": {
          "base_uri": "https://localhost:8080/"
        },
        "id": "n9uCAfWypIs6",
        "outputId": "80711d7e-1f2c-4b7f-aed2-c8238259d193"
      },
      "execution_count": null,
      "outputs": [
        {
          "output_type": "stream",
          "name": "stdout",
          "text": [
            "[1, 2, 3]\n"
          ]
        }
      ]
    },
    {
      "cell_type": "code",
      "source": [
        "no_of_inp = int(input())\n",
        "inp = list(map(int, input().split()))\n",
        "minimum = min(inp)\n",
        "print(minimum, inp.index(minimum)+1)"
      ],
      "metadata": {
        "colab": {
          "base_uri": "https://localhost:8080/"
        },
        "id": "mUCU19xvPm5Y",
        "outputId": "1ee50f14-12e7-434b-9741-7ff8fffbb8dc"
      },
      "execution_count": null,
      "outputs": [
        {
          "output_type": "stream",
          "name": "stdout",
          "text": [
            "5\n",
            "5 5 3 2 1\n",
            "1 5\n"
          ]
        }
      ]
    },
    {
      "cell_type": "code",
      "source": [
        "no_of_inp = int(input())\n",
        "inp = list(map(int, input().split()))\n",
        "minimum = min(inp)\n",
        "maximum = max(inp)\n",
        "\n",
        "index_of_minimum = inp.index(minimum)\n",
        "index_of_maximum = inp.index(maximum)\n",
        "\n",
        "inp[index_of_minimum], inp[index_of_maximum] = inp[index_of_maximum], inp[index_of_minimum]\n",
        "\n",
        "for i in inp:\n",
        "  print(i, end=\" \")"
      ],
      "metadata": {
        "colab": {
          "base_uri": "https://localhost:8080/"
        },
        "id": "q1lf18_mSYvD",
        "outputId": "d9292247-71b3-4eab-cbad-452bc5cf1ec5"
      },
      "execution_count": null,
      "outputs": [
        {
          "output_type": "stream",
          "name": "stdout",
          "text": [
            "5\n",
            "4 1 3 10 8\n",
            "4 10 3 1 8 "
          ]
        }
      ]
    },
    {
      "cell_type": "code",
      "source": [
        "no_of_inp = int(input())\n",
        "inp = input()\n",
        "sum = 0\n",
        "for i in inp:\n",
        "  sum+=int(i)\n",
        "\n",
        "print(sum)\n"
      ],
      "metadata": {
        "colab": {
          "base_uri": "https://localhost:8080/"
        },
        "id": "lUGODLqGTbgk",
        "outputId": "ff86fb85-4f80-4e9f-d416-47d87273df96"
      },
      "execution_count": null,
      "outputs": [
        {
          "output_type": "stream",
          "name": "stdout",
          "text": [
            "5\n",
            "13305\n",
            "12\n"
          ]
        }
      ]
    },
    {
      "cell_type": "code",
      "source": [
        "no_of_inp = int(input())\n",
        "\n",
        "for i in range(no_of_inp):\n",
        "  inp = input()\n",
        "\n",
        "  if \"010\" in inp or \"101\" in inp:\n",
        "    print(\"Good\")\n",
        "  else:\n",
        "    print(\"Bad\")\n"
      ],
      "metadata": {
        "colab": {
          "base_uri": "https://localhost:8080/"
        },
        "id": "M_mJBeiYUofL",
        "outputId": "3affe191-d45d-4d23-97b5-4ee18aea2ce0"
      },
      "execution_count": null,
      "outputs": [
        {
          "output_type": "stream",
          "name": "stdout",
          "text": [
            "2\n",
            "11111110\n",
            "Bad\n",
            "10101010101010\n",
            "Good\n"
          ]
        }
      ]
    },
    {
      "cell_type": "code",
      "source": [
        "inp = input().upper()\n",
        "inp = inp.replace(\"EGYPT\", \" \")\n",
        "print(inp)"
      ],
      "metadata": {
        "colab": {
          "base_uri": "https://localhost:8080/"
        },
        "id": "YEYSa16YWR9b",
        "outputId": "a861e225-cd25-49db-912c-b22953d493a1"
      },
      "execution_count": null,
      "outputs": [
        {
          "output_type": "stream",
          "name": "stdout",
          "text": [
            "ITALYKOREAEGYPTEGYPTALGERIAEGYPTZ\n",
            "ITALYKOREA  ALGERIA Z\n"
          ]
        }
      ]
    },
    {
      "cell_type": "code",
      "source": [
        "inp = list(map(float, input().split()))\n",
        "brightness = inp[0]\n",
        "threshold = inp[1]\n",
        "\n",
        "if brightness >= threshold:\n",
        "  print(\"ON\")\n",
        "else:\n",
        "  print(\"OFF\")"
      ],
      "metadata": {
        "colab": {
          "base_uri": "https://localhost:8080/"
        },
        "id": "jpSuCMfoTdeE",
        "outputId": "d47ec668-57ae-47cc-cb33-d914da93811c"
      },
      "execution_count": null,
      "outputs": [
        {
          "output_type": "stream",
          "name": "stdout",
          "text": [
            "40 50\n",
            "OFF\n"
          ]
        }
      ]
    },
    {
      "cell_type": "code",
      "source": [
        "inp = list(map(float, input().split()))\n",
        "x = inp[0]\n",
        "min_v = inp[1]\n",
        "max_v = inp[2]\n",
        "\n",
        "norm = (x - min_v) / (max_v - min_v)\n",
        "\n",
        "print(f\"{norm:.2f}\")"
      ],
      "metadata": {
        "colab": {
          "base_uri": "https://localhost:8080/"
        },
        "id": "2xUbGeUiVmiW",
        "outputId": "072d8e90-50b1-440b-db50-b8044e3b8613"
      },
      "execution_count": null,
      "outputs": [
        {
          "output_type": "stream",
          "name": "stdout",
          "text": [
            "2.5 0 10\n",
            "0.25\n"
          ]
        }
      ]
    },
    {
      "cell_type": "code",
      "source": [
        "no_of_inp = int(input())\n",
        "\n",
        "sum_of_loss = 0\n",
        "taraget = 0\n",
        "for i in range(no_of_inp+1):\n",
        "  inp = float(input())\n",
        "\n",
        "  if i == 0:\n",
        "    target = inp;\n",
        "  else:\n",
        "    sum_of_loss += inp\n",
        "\n",
        "\n",
        "average_loss = sum_of_loss / no_of_inp\n",
        "if average_loss <= target:\n",
        "  print(\"PASS\")\n",
        "else:\n",
        "  print(\"RETRY\")\n"
      ],
      "metadata": {
        "colab": {
          "base_uri": "https://localhost:8080/"
        },
        "id": "CDtepckh65Vj",
        "outputId": "bd4e8233-c690-48b4-f08d-9344902d2219"
      },
      "execution_count": null,
      "outputs": [
        {
          "output_type": "stream",
          "name": "stdout",
          "text": [
            "5\n",
            "0.40\n",
            "0.42\n",
            "0.45\n",
            "0.39\n",
            "0.41\n",
            "0.44\n",
            "RETRY\n"
          ]
        }
      ]
    },
    {
      "cell_type": "code",
      "source": [
        "no_of_inp = int(input())\n",
        "\n",
        "yes = 0\n",
        "no = 0\n",
        "\n",
        "for i in range(no_of_inp):\n",
        "  inp = input().upper()\n",
        "  if inp == \"YES\":\n",
        "    yes += 1\n",
        "  else:\n",
        "    no += 1\n",
        "\n",
        "if yes >= no:\n",
        "  print(\"ACCEPT\")\n",
        "else:\n",
        "  print(\"REJECT\")"
      ],
      "metadata": {
        "colab": {
          "base_uri": "https://localhost:8080/"
        },
        "id": "5v-pytuI9C-N",
        "outputId": "b56fb264-ed51-4e13-a5e4-bf543206eab6"
      },
      "execution_count": null,
      "outputs": [
        {
          "output_type": "stream",
          "name": "stdout",
          "text": [
            "2\n",
            "NO\n",
            "yes\n",
            "ACCEPT\n"
          ]
        }
      ]
    },
    {
      "cell_type": "code",
      "source": [
        "inp = input().lower()\n",
        "\n",
        "if \"happy\" in inp or \"joy\" in inp or \"smile\" in inp:\n",
        "  print(\"Happy Mood\")\n",
        "elif \"sad\" in inp or \"cry\" in inp or \"angry\" in inp:\n",
        "  print(\"Sad Mood\")\n",
        "else:\n",
        "  print(\"Neutral Mood\")"
      ],
      "metadata": {
        "colab": {
          "base_uri": "https://localhost:8080/"
        },
        "id": "5cyYgEu--ksn",
        "outputId": "246becf3-3ae5-4338-9f51-0e7778abd0f2"
      },
      "execution_count": null,
      "outputs": [
        {
          "output_type": "stream",
          "name": "stdout",
          "text": [
            "i am angry today\n",
            "Sad Mood\n"
          ]
        }
      ]
    },
    {
      "cell_type": "code",
      "source": [
        "inp = list(map(int, input().split()))\n",
        "\n",
        "total_brightness = 0\n",
        "\n",
        "for i in inp:\n",
        "  total_brightness += i\n",
        "\n",
        "average_brightness = total_brightness / len(inp)\n",
        "\n",
        "if average_brightness < 85:\n",
        "  print(\"Dark Image\")\n",
        "elif average_brightness <= 170:\n",
        "  print(\"Normal Image\")\n",
        "else:\n",
        "  print(\"Bright Image\")"
      ],
      "metadata": {
        "colab": {
          "base_uri": "https://localhost:8080/"
        },
        "id": "rOvER9gBAWqH",
        "outputId": "190dba74-4c63-4694-a53b-402d42f8486a"
      },
      "execution_count": null,
      "outputs": [
        {
          "output_type": "stream",
          "name": "stdout",
          "text": [
            "10 20 30\n",
            "Dark Image\n"
          ]
        }
      ]
    },
    {
      "cell_type": "code",
      "source": [
        "inp = input().upper().split()\n",
        "average_of_A = inp.count(\"A\") * 100 / len(inp)\n",
        "average_of_B = inp.count(\"B\") * 100 / len(inp)\n",
        "\n",
        "if average_of_A > 70 or average_of_B > 70:\n",
        "  print(\"Biased Model\")\n",
        "else:\n",
        "  print(\"Fair Model\")\n"
      ],
      "metadata": {
        "colab": {
          "base_uri": "https://localhost:8080/"
        },
        "id": "oTncJlx6EoNB",
        "outputId": "b6163580-8a42-47dc-fb62-6bf0f32ea52d"
      },
      "execution_count": null,
      "outputs": [
        {
          "output_type": "stream",
          "name": "stdout",
          "text": [
            "A A  B B B\n",
            "Fair Model\n"
          ]
        }
      ]
    },
    {
      "cell_type": "code",
      "source": [
        "#ai, data, model, learn, train, neural\n",
        "inp = input().lower().split()\n",
        "\n",
        "ai_count = inp.count(\"ai\") + inp.count(\"data\") + inp.count(\"model\") + inp.count(\"learn\") + inp.count(\"train\") + inp.count(\"neural\")\n",
        "\n",
        "if ai_count >= 2:\n",
        "  print(\"AI Detected\")\n",
        "else:\n",
        "  print(\"Not AI Related\")\n"
      ],
      "metadata": {
        "colab": {
          "base_uri": "https://localhost:8080/"
        },
        "id": "qKJxfB_fGpMV",
        "outputId": "7006b362-62a8-4eed-9532-3b61a8782151"
      },
      "execution_count": null,
      "outputs": [
        {
          "output_type": "stream",
          "name": "stdout",
          "text": [
            "i love to train a neural model\n",
            "AI Detected\n"
          ]
        }
      ]
    }
  ]
}